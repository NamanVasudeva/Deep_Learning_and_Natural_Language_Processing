{
 "cells": [
  {
   "cell_type": "code",
   "execution_count": 1,
   "id": "87887085",
   "metadata": {
    "id": "87887085"
   },
   "outputs": [],
   "source": [
    "#Importing Tensorflow\n",
    "import tensorflow as tf\n",
    "from keras.preprocessing.image import ImageDataGenerator\n",
    "import os"
   ]
  },
  {
   "cell_type": "code",
   "execution_count": 2,
   "id": "c9b3885b",
   "metadata": {
    "id": "c9b3885b",
    "outputId": "14d6f50b-0b25-40aa-fda6-4c0cc8c01a28"
   },
   "outputs": [
    {
     "data": {
      "text/plain": [
       "'2.9.2'"
      ]
     },
     "execution_count": 2,
     "metadata": {},
     "output_type": "execute_result"
    }
   ],
   "source": [
    "#checking the version of tensorflow\n",
    "tf.__version__"
   ]
  },
  {
   "cell_type": "code",
   "execution_count": 3,
   "id": "2463c436",
   "metadata": {
    "id": "2463c436",
    "outputId": "3baefc48-e594-45dc-dd4f-8a6d4d5db872"
   },
   "outputs": [
    {
     "name": "stdout",
     "output_type": "stream",
     "text": [
      "Found 1150 images belonging to 2 classes.\n"
     ]
    }
   ],
   "source": [
    "#training dataset augmentation and path, batch and class details\n",
    "train_datagen = ImageDataGenerator(rescale = 1./255,\n",
    "                                   shear_range = 0.2,\n",
    "                                   zoom_range = 0.2,\n",
    "                                   brightness_range=(0.1, 0.9),\n",
    "                                   channel_shift_range=150.0,\n",
    "                                   width_shift_range=0.3,\n",
    "                                   height_shift_range=0.3,\n",
    "                                   horizontal_flip = True)\n",
    "training_set = train_datagen.flow_from_directory('/Users/namanvasudeva/Downloads/DAtaset/train',\n",
    "                                                 target_size = (64, 64),\n",
    "                                                 batch_size = 32,\n",
    "                                                 class_mode = 'binary')"
   ]
  },
  {
   "cell_type": "code",
   "execution_count": 4,
   "id": "546d626b",
   "metadata": {
    "id": "546d626b",
    "outputId": "f0f2ad77-b47f-41af-832b-f40cc31f5691"
   },
   "outputs": [
    {
     "name": "stdout",
     "output_type": "stream",
     "text": [
      "Found 600 images belonging to 2 classes.\n"
     ]
    }
   ],
   "source": [
    "#test data path, batch and class details\n",
    "test_datagen = ImageDataGenerator(rescale = 1./255)\n",
    "test_set = test_datagen.flow_from_directory('/Users/namanvasudeva/Downloads/DAtaset/test',\n",
    "                                            target_size = (64, 64),\n",
    "                                            batch_size = 32,\n",
    "                                            class_mode = 'binary')"
   ]
  },
  {
   "cell_type": "code",
   "execution_count": 5,
   "id": "f2ae3071",
   "metadata": {
    "id": "f2ae3071"
   },
   "outputs": [
    {
     "name": "stdout",
     "output_type": "stream",
     "text": [
      "Metal device set to: Apple M1\n"
     ]
    },
    {
     "name": "stderr",
     "output_type": "stream",
     "text": [
      "2022-07-24 23:37:10.211352: I tensorflow/core/common_runtime/pluggable_device/pluggable_device_factory.cc:305] Could not identify NUMA node of platform GPU ID 0, defaulting to 0. Your kernel may not have been built with NUMA support.\n",
      "2022-07-24 23:37:10.211460: I tensorflow/core/common_runtime/pluggable_device/pluggable_device_factory.cc:271] Created TensorFlow device (/job:localhost/replica:0/task:0/device:GPU:0 with 0 MB memory) -> physical PluggableDevice (device: 0, name: METAL, pci bus id: <undefined>)\n"
     ]
    }
   ],
   "source": [
    "cnn = tf.keras.models.Sequential()"
   ]
  },
  {
   "cell_type": "code",
   "execution_count": 6,
   "id": "4333b4d7",
   "metadata": {
    "id": "4333b4d7"
   },
   "outputs": [],
   "source": [
    "cnn.add(tf.keras.layers.Conv2D(filters=32, kernel_size=3, activation='relu', input_shape=[64, 64, 3]))\n"
   ]
  },
  {
   "cell_type": "code",
   "execution_count": 7,
   "id": "d711cd9c",
   "metadata": {
    "id": "d711cd9c"
   },
   "outputs": [],
   "source": [
    "cnn.add(tf.keras.layers.MaxPool2D(pool_size=2, strides=2))\n"
   ]
  },
  {
   "cell_type": "code",
   "execution_count": 8,
   "id": "c3dc5984",
   "metadata": {
    "id": "c3dc5984"
   },
   "outputs": [],
   "source": [
    "cnn.add(tf.keras.layers.Conv2D(filters=32, kernel_size=3, activation='relu'))\n",
    "cnn.add(tf.keras.layers.MaxPool2D(pool_size=2, strides=2))\n"
   ]
  },
  {
   "cell_type": "code",
   "execution_count": 9,
   "id": "ecc5bf91",
   "metadata": {
    "id": "ecc5bf91"
   },
   "outputs": [],
   "source": [
    "cnn.add(tf.keras.layers.Flatten())\n"
   ]
  },
  {
   "cell_type": "code",
   "execution_count": 10,
   "id": "a460ac02",
   "metadata": {
    "id": "a460ac02"
   },
   "outputs": [],
   "source": [
    "cnn.add(tf.keras.layers.Dense(units=128, activation='relu'))\n"
   ]
  },
  {
   "cell_type": "code",
   "execution_count": 11,
   "id": "2d011e5f",
   "metadata": {
    "id": "2d011e5f"
   },
   "outputs": [],
   "source": [
    "cnn.add(tf.keras.layers.Dense(units=1, activation='sigmoid'))\n"
   ]
  },
  {
   "cell_type": "code",
   "execution_count": 12,
   "id": "909562c1",
   "metadata": {
    "id": "909562c1"
   },
   "outputs": [],
   "source": [
    "#settign the method for loss\n",
    "cnn.compile(optimizer = 'adam', loss = 'binary_crossentropy', metrics = ['accuracy'])\n"
   ]
  },
  {
   "cell_type": "code",
   "execution_count": 13,
   "id": "24186257",
   "metadata": {
    "id": "24186257",
    "outputId": "7018ad6f-f2c8-4141-b737-8f604d8eadd6",
    "scrolled": true
   },
   "outputs": [
    {
     "name": "stdout",
     "output_type": "stream",
     "text": [
      "Epoch 1/300\n"
     ]
    },
    {
     "name": "stderr",
     "output_type": "stream",
     "text": [
      "2022-07-24 23:37:10.453385: W tensorflow/core/platform/profile_utils/cpu_utils.cc:128] Failed to get CPU frequency: 0 Hz\n",
      "2022-07-24 23:37:10.737985: I tensorflow/core/grappler/optimizers/custom_graph_optimizer_registry.cc:113] Plugin optimizer for device_type GPU is enabled.\n"
     ]
    },
    {
     "name": "stdout",
     "output_type": "stream",
     "text": [
      "36/36 [==============================] - ETA: 0s - loss: 0.6957 - accuracy: 0.5278"
     ]
    },
    {
     "name": "stderr",
     "output_type": "stream",
     "text": [
      "2022-07-24 23:37:14.214118: I tensorflow/core/grappler/optimizers/custom_graph_optimizer_registry.cc:113] Plugin optimizer for device_type GPU is enabled.\n"
     ]
    },
    {
     "name": "stdout",
     "output_type": "stream",
     "text": [
      "36/36 [==============================] - 5s 120ms/step - loss: 0.6957 - accuracy: 0.5278 - val_loss: 0.7061 - val_accuracy: 0.5517\n",
      "Epoch 2/300\n",
      "36/36 [==============================] - 4s 107ms/step - loss: 0.6855 - accuracy: 0.5548 - val_loss: 0.8267 - val_accuracy: 0.5017\n",
      "Epoch 3/300\n",
      "36/36 [==============================] - 4s 108ms/step - loss: 0.6697 - accuracy: 0.5861 - val_loss: 1.1789 - val_accuracy: 0.4767\n",
      "Epoch 4/300\n",
      "36/36 [==============================] - 4s 108ms/step - loss: 0.6574 - accuracy: 0.5826 - val_loss: 1.4408 - val_accuracy: 0.4150\n",
      "Epoch 5/300\n",
      "36/36 [==============================] - 4s 108ms/step - loss: 0.6493 - accuracy: 0.6122 - val_loss: 1.0732 - val_accuracy: 0.4100\n",
      "Epoch 6/300\n",
      "36/36 [==============================] - 4s 108ms/step - loss: 0.6274 - accuracy: 0.6226 - val_loss: 1.4349 - val_accuracy: 0.4067\n",
      "Epoch 7/300\n",
      "36/36 [==============================] - 4s 107ms/step - loss: 0.6341 - accuracy: 0.6235 - val_loss: 1.8830 - val_accuracy: 0.3883\n",
      "Epoch 8/300\n",
      "36/36 [==============================] - 4s 108ms/step - loss: 0.6120 - accuracy: 0.6513 - val_loss: 1.1333 - val_accuracy: 0.5200\n",
      "Epoch 9/300\n",
      "36/36 [==============================] - 4s 108ms/step - loss: 0.6321 - accuracy: 0.6061 - val_loss: 2.5368 - val_accuracy: 0.4183\n",
      "Epoch 10/300\n",
      "36/36 [==============================] - 4s 112ms/step - loss: 0.6061 - accuracy: 0.6565 - val_loss: 2.6094 - val_accuracy: 0.3950\n",
      "Epoch 11/300\n",
      "36/36 [==============================] - 4s 111ms/step - loss: 0.5895 - accuracy: 0.6817 - val_loss: 1.8859 - val_accuracy: 0.3883\n",
      "Epoch 12/300\n",
      "36/36 [==============================] - 4s 111ms/step - loss: 0.5911 - accuracy: 0.6609 - val_loss: 2.6386 - val_accuracy: 0.3633\n",
      "Epoch 13/300\n",
      "36/36 [==============================] - 4s 107ms/step - loss: 0.5876 - accuracy: 0.6635 - val_loss: 3.0848 - val_accuracy: 0.4017\n",
      "Epoch 14/300\n",
      "36/36 [==============================] - 4s 108ms/step - loss: 0.5865 - accuracy: 0.6765 - val_loss: 1.7678 - val_accuracy: 0.4483\n",
      "Epoch 15/300\n",
      "36/36 [==============================] - 4s 109ms/step - loss: 0.5842 - accuracy: 0.6878 - val_loss: 3.2739 - val_accuracy: 0.3933\n",
      "Epoch 16/300\n",
      "36/36 [==============================] - 4s 108ms/step - loss: 0.5608 - accuracy: 0.7000 - val_loss: 3.6747 - val_accuracy: 0.4067\n",
      "Epoch 17/300\n",
      "36/36 [==============================] - 4s 109ms/step - loss: 0.5535 - accuracy: 0.7113 - val_loss: 2.8519 - val_accuracy: 0.3967\n",
      "Epoch 18/300\n",
      "36/36 [==============================] - 4s 108ms/step - loss: 0.5494 - accuracy: 0.7043 - val_loss: 2.9498 - val_accuracy: 0.3683\n",
      "Epoch 19/300\n",
      "36/36 [==============================] - 4s 108ms/step - loss: 0.5575 - accuracy: 0.6887 - val_loss: 1.8275 - val_accuracy: 0.5117\n",
      "Epoch 20/300\n",
      "36/36 [==============================] - 4s 109ms/step - loss: 0.5931 - accuracy: 0.6696 - val_loss: 2.2297 - val_accuracy: 0.3867\n",
      "Epoch 21/300\n",
      "36/36 [==============================] - 4s 108ms/step - loss: 0.5469 - accuracy: 0.7139 - val_loss: 2.6800 - val_accuracy: 0.4150\n",
      "Epoch 22/300\n",
      "36/36 [==============================] - 4s 110ms/step - loss: 0.5275 - accuracy: 0.7078 - val_loss: 3.9212 - val_accuracy: 0.4067\n",
      "Epoch 23/300\n",
      "36/36 [==============================] - 4s 109ms/step - loss: 0.5545 - accuracy: 0.7070 - val_loss: 3.8117 - val_accuracy: 0.4550\n",
      "Epoch 24/300\n",
      "36/36 [==============================] - 4s 110ms/step - loss: 0.5468 - accuracy: 0.7200 - val_loss: 3.6247 - val_accuracy: 0.4317\n",
      "Epoch 25/300\n",
      "36/36 [==============================] - 4s 110ms/step - loss: 0.5554 - accuracy: 0.7061 - val_loss: 2.0942 - val_accuracy: 0.4333\n",
      "Epoch 26/300\n",
      "36/36 [==============================] - 4s 110ms/step - loss: 0.5496 - accuracy: 0.7165 - val_loss: 3.8618 - val_accuracy: 0.3867\n",
      "Epoch 27/300\n",
      "36/36 [==============================] - 4s 109ms/step - loss: 0.5306 - accuracy: 0.7278 - val_loss: 4.3223 - val_accuracy: 0.4500\n",
      "Epoch 28/300\n",
      "36/36 [==============================] - 4s 110ms/step - loss: 0.5329 - accuracy: 0.7304 - val_loss: 4.3676 - val_accuracy: 0.4133\n",
      "Epoch 29/300\n",
      "36/36 [==============================] - 4s 110ms/step - loss: 0.5207 - accuracy: 0.7278 - val_loss: 3.6647 - val_accuracy: 0.4100\n",
      "Epoch 30/300\n",
      "36/36 [==============================] - 4s 110ms/step - loss: 0.5110 - accuracy: 0.7383 - val_loss: 3.0614 - val_accuracy: 0.3817\n",
      "Epoch 31/300\n",
      "36/36 [==============================] - 4s 109ms/step - loss: 0.5230 - accuracy: 0.7226 - val_loss: 5.7132 - val_accuracy: 0.3567\n",
      "Epoch 32/300\n",
      "36/36 [==============================] - 4s 110ms/step - loss: 0.5314 - accuracy: 0.7130 - val_loss: 2.8972 - val_accuracy: 0.3900\n",
      "Epoch 33/300\n",
      "36/36 [==============================] - 4s 111ms/step - loss: 0.5247 - accuracy: 0.7087 - val_loss: 4.4715 - val_accuracy: 0.4533\n",
      "Epoch 34/300\n",
      "36/36 [==============================] - 4s 109ms/step - loss: 0.5081 - accuracy: 0.7400 - val_loss: 5.3799 - val_accuracy: 0.3867\n",
      "Epoch 35/300\n",
      "36/36 [==============================] - 4s 110ms/step - loss: 0.5324 - accuracy: 0.7165 - val_loss: 4.8431 - val_accuracy: 0.4183\n",
      "Epoch 36/300\n",
      "36/36 [==============================] - 4s 109ms/step - loss: 0.5000 - accuracy: 0.7409 - val_loss: 5.2831 - val_accuracy: 0.3767\n",
      "Epoch 37/300\n",
      "36/36 [==============================] - 4s 109ms/step - loss: 0.5131 - accuracy: 0.7409 - val_loss: 4.1000 - val_accuracy: 0.4433\n",
      "Epoch 38/300\n",
      "36/36 [==============================] - 4s 109ms/step - loss: 0.5002 - accuracy: 0.7591 - val_loss: 4.8114 - val_accuracy: 0.4817\n",
      "Epoch 39/300\n",
      "36/36 [==============================] - 4s 110ms/step - loss: 0.4972 - accuracy: 0.7391 - val_loss: 4.8299 - val_accuracy: 0.4350\n",
      "Epoch 40/300\n",
      "36/36 [==============================] - 4s 111ms/step - loss: 0.5049 - accuracy: 0.7417 - val_loss: 4.6392 - val_accuracy: 0.3583\n",
      "Epoch 41/300\n",
      "36/36 [==============================] - 4s 110ms/step - loss: 0.5032 - accuracy: 0.7452 - val_loss: 4.4667 - val_accuracy: 0.4867\n",
      "Epoch 42/300\n",
      "36/36 [==============================] - 4s 108ms/step - loss: 0.4986 - accuracy: 0.7348 - val_loss: 4.2796 - val_accuracy: 0.4433\n",
      "Epoch 43/300\n",
      "36/36 [==============================] - 4s 108ms/step - loss: 0.4776 - accuracy: 0.7557 - val_loss: 5.2505 - val_accuracy: 0.3517\n",
      "Epoch 44/300\n",
      "36/36 [==============================] - 4s 109ms/step - loss: 0.5110 - accuracy: 0.7322 - val_loss: 4.2071 - val_accuracy: 0.3900\n",
      "Epoch 45/300\n",
      "36/36 [==============================] - 4s 108ms/step - loss: 0.5136 - accuracy: 0.7278 - val_loss: 5.5835 - val_accuracy: 0.3950\n",
      "Epoch 46/300\n",
      "36/36 [==============================] - 4s 108ms/step - loss: 0.5110 - accuracy: 0.7287 - val_loss: 4.8807 - val_accuracy: 0.3967\n",
      "Epoch 47/300\n",
      "36/36 [==============================] - 4s 110ms/step - loss: 0.4987 - accuracy: 0.7357 - val_loss: 3.0624 - val_accuracy: 0.3783\n",
      "Epoch 48/300\n",
      "36/36 [==============================] - 4s 111ms/step - loss: 0.5068 - accuracy: 0.7374 - val_loss: 4.6087 - val_accuracy: 0.3750\n",
      "Epoch 49/300\n",
      "36/36 [==============================] - 4s 112ms/step - loss: 0.4818 - accuracy: 0.7487 - val_loss: 5.1432 - val_accuracy: 0.3833\n",
      "Epoch 50/300\n",
      "36/36 [==============================] - 4s 109ms/step - loss: 0.4845 - accuracy: 0.7539 - val_loss: 5.9984 - val_accuracy: 0.3750\n",
      "Epoch 51/300\n",
      "36/36 [==============================] - 4s 111ms/step - loss: 0.4875 - accuracy: 0.7626 - val_loss: 7.1268 - val_accuracy: 0.4067\n",
      "Epoch 52/300\n",
      "36/36 [==============================] - 4s 110ms/step - loss: 0.4995 - accuracy: 0.7409 - val_loss: 4.6362 - val_accuracy: 0.3433\n",
      "Epoch 53/300\n",
      "36/36 [==============================] - 4s 112ms/step - loss: 0.4752 - accuracy: 0.7609 - val_loss: 6.2834 - val_accuracy: 0.4417\n",
      "Epoch 54/300\n",
      "36/36 [==============================] - 4s 113ms/step - loss: 0.4935 - accuracy: 0.7496 - val_loss: 5.3396 - val_accuracy: 0.2867\n",
      "Epoch 55/300\n",
      "36/36 [==============================] - 4s 109ms/step - loss: 0.4843 - accuracy: 0.7635 - val_loss: 4.7633 - val_accuracy: 0.3417\n",
      "Epoch 56/300\n",
      "36/36 [==============================] - 4s 110ms/step - loss: 0.4850 - accuracy: 0.7470 - val_loss: 6.1122 - val_accuracy: 0.3750\n",
      "Epoch 57/300\n",
      "36/36 [==============================] - 4s 109ms/step - loss: 0.4846 - accuracy: 0.7452 - val_loss: 7.4908 - val_accuracy: 0.4083\n",
      "Epoch 58/300\n"
     ]
    },
    {
     "name": "stdout",
     "output_type": "stream",
     "text": [
      "36/36 [==============================] - 4s 110ms/step - loss: 0.4746 - accuracy: 0.7652 - val_loss: 4.9146 - val_accuracy: 0.3633\n",
      "Epoch 59/300\n",
      "36/36 [==============================] - 4s 110ms/step - loss: 0.4745 - accuracy: 0.7591 - val_loss: 6.4565 - val_accuracy: 0.3417\n",
      "Epoch 60/300\n",
      "36/36 [==============================] - 4s 109ms/step - loss: 0.4770 - accuracy: 0.7557 - val_loss: 6.2299 - val_accuracy: 0.4383\n",
      "Epoch 61/300\n",
      "36/36 [==============================] - 4s 109ms/step - loss: 0.4758 - accuracy: 0.7652 - val_loss: 5.4906 - val_accuracy: 0.3800\n",
      "Epoch 62/300\n",
      "36/36 [==============================] - 4s 109ms/step - loss: 0.4755 - accuracy: 0.7670 - val_loss: 5.0338 - val_accuracy: 0.3367\n",
      "Epoch 63/300\n",
      "36/36 [==============================] - 4s 109ms/step - loss: 0.4717 - accuracy: 0.7530 - val_loss: 5.5869 - val_accuracy: 0.3833\n",
      "Epoch 64/300\n",
      "36/36 [==============================] - 4s 109ms/step - loss: 0.4690 - accuracy: 0.7800 - val_loss: 6.7566 - val_accuracy: 0.3767\n",
      "Epoch 65/300\n",
      "36/36 [==============================] - 4s 111ms/step - loss: 0.4685 - accuracy: 0.7661 - val_loss: 7.8256 - val_accuracy: 0.4583\n",
      "Epoch 66/300\n",
      "36/36 [==============================] - 4s 110ms/step - loss: 0.4585 - accuracy: 0.7609 - val_loss: 7.0410 - val_accuracy: 0.3617\n",
      "Epoch 67/300\n",
      "36/36 [==============================] - 4s 110ms/step - loss: 0.4878 - accuracy: 0.7461 - val_loss: 5.9847 - val_accuracy: 0.4033\n",
      "Epoch 68/300\n",
      "36/36 [==============================] - 4s 109ms/step - loss: 0.4591 - accuracy: 0.7635 - val_loss: 5.9626 - val_accuracy: 0.3833\n",
      "Epoch 69/300\n",
      "36/36 [==============================] - 4s 110ms/step - loss: 0.4564 - accuracy: 0.7748 - val_loss: 7.6569 - val_accuracy: 0.4500\n",
      "Epoch 70/300\n",
      "36/36 [==============================] - 4s 110ms/step - loss: 0.4644 - accuracy: 0.7678 - val_loss: 7.1846 - val_accuracy: 0.4000\n",
      "Epoch 71/300\n",
      "36/36 [==============================] - 4s 110ms/step - loss: 0.4573 - accuracy: 0.7696 - val_loss: 7.8682 - val_accuracy: 0.4000\n",
      "Epoch 72/300\n",
      "36/36 [==============================] - 4s 110ms/step - loss: 0.4594 - accuracy: 0.7652 - val_loss: 5.7040 - val_accuracy: 0.3617\n",
      "Epoch 73/300\n",
      "36/36 [==============================] - 4s 109ms/step - loss: 0.4920 - accuracy: 0.7409 - val_loss: 4.9064 - val_accuracy: 0.3967\n",
      "Epoch 74/300\n",
      "36/36 [==============================] - 4s 110ms/step - loss: 0.4655 - accuracy: 0.7661 - val_loss: 5.5613 - val_accuracy: 0.3617\n",
      "Epoch 75/300\n",
      "36/36 [==============================] - 4s 111ms/step - loss: 0.4569 - accuracy: 0.7670 - val_loss: 6.8237 - val_accuracy: 0.4333\n",
      "Epoch 76/300\n",
      "36/36 [==============================] - 4s 110ms/step - loss: 0.4923 - accuracy: 0.7522 - val_loss: 3.2343 - val_accuracy: 0.3450\n",
      "Epoch 77/300\n",
      "36/36 [==============================] - 4s 111ms/step - loss: 0.4687 - accuracy: 0.7557 - val_loss: 5.3103 - val_accuracy: 0.3700\n",
      "Epoch 78/300\n",
      "36/36 [==============================] - 4s 111ms/step - loss: 0.4621 - accuracy: 0.7687 - val_loss: 7.4210 - val_accuracy: 0.4217\n",
      "Epoch 79/300\n",
      "36/36 [==============================] - 4s 112ms/step - loss: 0.4709 - accuracy: 0.7643 - val_loss: 5.7081 - val_accuracy: 0.3800\n",
      "Epoch 80/300\n",
      "36/36 [==============================] - 4s 111ms/step - loss: 0.4482 - accuracy: 0.7852 - val_loss: 8.6305 - val_accuracy: 0.4450\n",
      "Epoch 81/300\n",
      "36/36 [==============================] - 4s 111ms/step - loss: 0.4531 - accuracy: 0.7748 - val_loss: 6.3407 - val_accuracy: 0.3933\n",
      "Epoch 82/300\n",
      "36/36 [==============================] - 4s 111ms/step - loss: 0.4560 - accuracy: 0.7704 - val_loss: 9.0429 - val_accuracy: 0.4533\n",
      "Epoch 83/300\n",
      "36/36 [==============================] - 4s 111ms/step - loss: 0.4389 - accuracy: 0.7748 - val_loss: 6.7900 - val_accuracy: 0.3550\n",
      "Epoch 84/300\n",
      "36/36 [==============================] - 4s 111ms/step - loss: 0.4438 - accuracy: 0.7774 - val_loss: 8.6209 - val_accuracy: 0.4267\n",
      "Epoch 85/300\n",
      "36/36 [==============================] - 4s 110ms/step - loss: 0.4296 - accuracy: 0.7878 - val_loss: 9.5064 - val_accuracy: 0.4467\n",
      "Epoch 86/300\n",
      "36/36 [==============================] - 4s 112ms/step - loss: 0.4501 - accuracy: 0.7626 - val_loss: 6.9323 - val_accuracy: 0.3967\n",
      "Epoch 87/300\n",
      "36/36 [==============================] - 4s 111ms/step - loss: 0.4504 - accuracy: 0.7765 - val_loss: 8.7927 - val_accuracy: 0.4500\n",
      "Epoch 88/300\n",
      "36/36 [==============================] - 4s 110ms/step - loss: 0.4500 - accuracy: 0.7713 - val_loss: 8.0350 - val_accuracy: 0.4383\n",
      "Epoch 89/300\n",
      "36/36 [==============================] - 4s 111ms/step - loss: 0.4557 - accuracy: 0.7817 - val_loss: 8.1634 - val_accuracy: 0.3817\n",
      "Epoch 90/300\n",
      "36/36 [==============================] - 4s 111ms/step - loss: 0.4544 - accuracy: 0.7678 - val_loss: 7.1039 - val_accuracy: 0.3833\n",
      "Epoch 91/300\n",
      "36/36 [==============================] - 4s 110ms/step - loss: 0.4334 - accuracy: 0.7878 - val_loss: 8.8243 - val_accuracy: 0.4067\n",
      "Epoch 92/300\n",
      "36/36 [==============================] - 4s 111ms/step - loss: 0.4624 - accuracy: 0.7739 - val_loss: 8.4095 - val_accuracy: 0.4450\n",
      "Epoch 93/300\n",
      "36/36 [==============================] - 4s 112ms/step - loss: 0.4372 - accuracy: 0.7826 - val_loss: 7.4772 - val_accuracy: 0.4267\n",
      "Epoch 94/300\n",
      "36/36 [==============================] - 4s 111ms/step - loss: 0.4371 - accuracy: 0.7887 - val_loss: 7.1797 - val_accuracy: 0.4167\n",
      "Epoch 95/300\n",
      "36/36 [==============================] - 4s 111ms/step - loss: 0.4192 - accuracy: 0.7870 - val_loss: 10.3524 - val_accuracy: 0.4017\n",
      "Epoch 96/300\n",
      "36/36 [==============================] - 4s 112ms/step - loss: 0.4295 - accuracy: 0.7930 - val_loss: 8.7633 - val_accuracy: 0.4467\n",
      "Epoch 97/300\n",
      "36/36 [==============================] - 4s 111ms/step - loss: 0.4377 - accuracy: 0.7835 - val_loss: 8.6909 - val_accuracy: 0.3917\n",
      "Epoch 98/300\n",
      "36/36 [==============================] - 4s 111ms/step - loss: 0.4438 - accuracy: 0.7887 - val_loss: 8.9886 - val_accuracy: 0.4050\n",
      "Epoch 99/300\n",
      "36/36 [==============================] - 4s 111ms/step - loss: 0.4144 - accuracy: 0.7913 - val_loss: 9.5922 - val_accuracy: 0.3933\n",
      "Epoch 100/300\n",
      "36/36 [==============================] - 4s 112ms/step - loss: 0.4311 - accuracy: 0.7817 - val_loss: 8.5020 - val_accuracy: 0.3783\n",
      "Epoch 101/300\n",
      "36/36 [==============================] - 4s 111ms/step - loss: 0.4150 - accuracy: 0.7991 - val_loss: 8.6735 - val_accuracy: 0.3950\n",
      "Epoch 102/300\n",
      "36/36 [==============================] - 4s 111ms/step - loss: 0.4278 - accuracy: 0.7939 - val_loss: 9.5126 - val_accuracy: 0.3800\n",
      "Epoch 103/300\n",
      "36/36 [==============================] - 4s 111ms/step - loss: 0.4233 - accuracy: 0.7957 - val_loss: 11.3891 - val_accuracy: 0.3967\n",
      "Epoch 104/300\n",
      "36/36 [==============================] - 4s 111ms/step - loss: 0.4214 - accuracy: 0.7965 - val_loss: 9.7276 - val_accuracy: 0.3933\n",
      "Epoch 105/300\n",
      "36/36 [==============================] - 4s 111ms/step - loss: 0.4282 - accuracy: 0.7887 - val_loss: 8.3375 - val_accuracy: 0.3917\n",
      "Epoch 106/300\n",
      "36/36 [==============================] - 4s 111ms/step - loss: 0.4257 - accuracy: 0.7930 - val_loss: 8.5882 - val_accuracy: 0.4100\n",
      "Epoch 107/300\n",
      "36/36 [==============================] - 4s 109ms/step - loss: 0.4168 - accuracy: 0.7904 - val_loss: 8.0836 - val_accuracy: 0.4250\n",
      "Epoch 108/300\n",
      "36/36 [==============================] - 4s 111ms/step - loss: 0.4205 - accuracy: 0.8000 - val_loss: 9.2491 - val_accuracy: 0.4200\n",
      "Epoch 109/300\n",
      "36/36 [==============================] - 4s 110ms/step - loss: 0.4113 - accuracy: 0.7922 - val_loss: 10.1979 - val_accuracy: 0.4017\n",
      "Epoch 110/300\n",
      "36/36 [==============================] - 4s 111ms/step - loss: 0.4159 - accuracy: 0.7948 - val_loss: 11.8736 - val_accuracy: 0.4183\n",
      "Epoch 111/300\n",
      "36/36 [==============================] - 4s 110ms/step - loss: 0.4321 - accuracy: 0.7878 - val_loss: 9.9244 - val_accuracy: 0.4083\n",
      "Epoch 112/300\n",
      "36/36 [==============================] - 4s 111ms/step - loss: 0.4080 - accuracy: 0.8043 - val_loss: 7.9728 - val_accuracy: 0.3683\n",
      "Epoch 113/300\n",
      "36/36 [==============================] - 4s 111ms/step - loss: 0.4166 - accuracy: 0.8043 - val_loss: 8.7118 - val_accuracy: 0.4200\n",
      "Epoch 114/300\n",
      "36/36 [==============================] - 4s 109ms/step - loss: 0.4170 - accuracy: 0.7957 - val_loss: 9.2405 - val_accuracy: 0.3600\n"
     ]
    },
    {
     "name": "stdout",
     "output_type": "stream",
     "text": [
      "Epoch 115/300\n",
      "36/36 [==============================] - 4s 108ms/step - loss: 0.4261 - accuracy: 0.7817 - val_loss: 8.3614 - val_accuracy: 0.3783\n",
      "Epoch 116/300\n",
      "36/36 [==============================] - 4s 108ms/step - loss: 0.4202 - accuracy: 0.8052 - val_loss: 10.7873 - val_accuracy: 0.3917\n",
      "Epoch 117/300\n",
      "36/36 [==============================] - 4s 109ms/step - loss: 0.4163 - accuracy: 0.7957 - val_loss: 8.6310 - val_accuracy: 0.3917\n",
      "Epoch 118/300\n",
      "36/36 [==============================] - 4s 109ms/step - loss: 0.4169 - accuracy: 0.7974 - val_loss: 9.5673 - val_accuracy: 0.3733\n",
      "Epoch 119/300\n",
      "36/36 [==============================] - 4s 108ms/step - loss: 0.4082 - accuracy: 0.7930 - val_loss: 9.3999 - val_accuracy: 0.3967\n",
      "Epoch 120/300\n",
      "36/36 [==============================] - 4s 108ms/step - loss: 0.4237 - accuracy: 0.7904 - val_loss: 8.3450 - val_accuracy: 0.3933\n",
      "Epoch 121/300\n",
      "36/36 [==============================] - 4s 109ms/step - loss: 0.4229 - accuracy: 0.7922 - val_loss: 9.5772 - val_accuracy: 0.4250\n",
      "Epoch 122/300\n",
      "36/36 [==============================] - 4s 109ms/step - loss: 0.4167 - accuracy: 0.7870 - val_loss: 9.9667 - val_accuracy: 0.4250\n",
      "Epoch 123/300\n",
      "36/36 [==============================] - 4s 109ms/step - loss: 0.4044 - accuracy: 0.7922 - val_loss: 10.4481 - val_accuracy: 0.4100\n",
      "Epoch 124/300\n",
      "36/36 [==============================] - 4s 109ms/step - loss: 0.4165 - accuracy: 0.7835 - val_loss: 8.0931 - val_accuracy: 0.3700\n",
      "Epoch 125/300\n",
      "36/36 [==============================] - 4s 109ms/step - loss: 0.4187 - accuracy: 0.7930 - val_loss: 8.9528 - val_accuracy: 0.3933\n",
      "Epoch 126/300\n",
      "36/36 [==============================] - 4s 110ms/step - loss: 0.4328 - accuracy: 0.7748 - val_loss: 8.7783 - val_accuracy: 0.4300\n",
      "Epoch 127/300\n",
      "36/36 [==============================] - 4s 110ms/step - loss: 0.4227 - accuracy: 0.7887 - val_loss: 9.8844 - val_accuracy: 0.4050\n",
      "Epoch 128/300\n",
      "36/36 [==============================] - 4s 111ms/step - loss: 0.3799 - accuracy: 0.8174 - val_loss: 12.4764 - val_accuracy: 0.3617\n",
      "Epoch 129/300\n",
      "36/36 [==============================] - 4s 112ms/step - loss: 0.4288 - accuracy: 0.7843 - val_loss: 9.3350 - val_accuracy: 0.4000\n",
      "Epoch 130/300\n",
      "36/36 [==============================] - 4s 110ms/step - loss: 0.3965 - accuracy: 0.8130 - val_loss: 8.8666 - val_accuracy: 0.4000\n",
      "Epoch 131/300\n",
      "36/36 [==============================] - 4s 111ms/step - loss: 0.4108 - accuracy: 0.7957 - val_loss: 10.6389 - val_accuracy: 0.3900\n",
      "Epoch 132/300\n",
      "36/36 [==============================] - 4s 110ms/step - loss: 0.4106 - accuracy: 0.7983 - val_loss: 12.6103 - val_accuracy: 0.3933\n",
      "Epoch 133/300\n",
      "36/36 [==============================] - 4s 110ms/step - loss: 0.4027 - accuracy: 0.7974 - val_loss: 10.8534 - val_accuracy: 0.4467\n",
      "Epoch 134/300\n",
      "36/36 [==============================] - 4s 109ms/step - loss: 0.3886 - accuracy: 0.8035 - val_loss: 13.5880 - val_accuracy: 0.4217\n",
      "Epoch 135/300\n",
      "36/36 [==============================] - 4s 108ms/step - loss: 0.4177 - accuracy: 0.7809 - val_loss: 10.7016 - val_accuracy: 0.4300\n",
      "Epoch 136/300\n",
      "36/36 [==============================] - 4s 109ms/step - loss: 0.4092 - accuracy: 0.8035 - val_loss: 11.6542 - val_accuracy: 0.4367\n",
      "Epoch 137/300\n",
      "36/36 [==============================] - 4s 108ms/step - loss: 0.4032 - accuracy: 0.8061 - val_loss: 10.7565 - val_accuracy: 0.4300\n",
      "Epoch 138/300\n",
      "36/36 [==============================] - 4s 108ms/step - loss: 0.4030 - accuracy: 0.7965 - val_loss: 11.7456 - val_accuracy: 0.4450\n",
      "Epoch 139/300\n",
      "36/36 [==============================] - 4s 109ms/step - loss: 0.4174 - accuracy: 0.8035 - val_loss: 9.9820 - val_accuracy: 0.3933\n",
      "Epoch 140/300\n",
      "36/36 [==============================] - 4s 108ms/step - loss: 0.3958 - accuracy: 0.8009 - val_loss: 10.2460 - val_accuracy: 0.3983\n",
      "Epoch 141/300\n",
      "36/36 [==============================] - 4s 109ms/step - loss: 0.4095 - accuracy: 0.8043 - val_loss: 12.2545 - val_accuracy: 0.3950\n",
      "Epoch 142/300\n",
      "36/36 [==============================] - 4s 108ms/step - loss: 0.3988 - accuracy: 0.8113 - val_loss: 9.1693 - val_accuracy: 0.3867\n",
      "Epoch 143/300\n",
      "36/36 [==============================] - 4s 109ms/step - loss: 0.4117 - accuracy: 0.8000 - val_loss: 8.9467 - val_accuracy: 0.3750\n",
      "Epoch 144/300\n",
      "36/36 [==============================] - 4s 109ms/step - loss: 0.3960 - accuracy: 0.8104 - val_loss: 9.3315 - val_accuracy: 0.3733\n",
      "Epoch 145/300\n",
      "36/36 [==============================] - 4s 109ms/step - loss: 0.4053 - accuracy: 0.7974 - val_loss: 12.0923 - val_accuracy: 0.4100\n",
      "Epoch 146/300\n",
      "36/36 [==============================] - 4s 108ms/step - loss: 0.4048 - accuracy: 0.8026 - val_loss: 12.1583 - val_accuracy: 0.4083\n",
      "Epoch 147/300\n",
      "36/36 [==============================] - 4s 110ms/step - loss: 0.3882 - accuracy: 0.8165 - val_loss: 12.9919 - val_accuracy: 0.4083\n",
      "Epoch 148/300\n",
      "36/36 [==============================] - 4s 109ms/step - loss: 0.3915 - accuracy: 0.7983 - val_loss: 11.6811 - val_accuracy: 0.4017\n",
      "Epoch 149/300\n",
      "36/36 [==============================] - 4s 109ms/step - loss: 0.4024 - accuracy: 0.7965 - val_loss: 14.6799 - val_accuracy: 0.4400\n",
      "Epoch 150/300\n",
      "36/36 [==============================] - 4s 109ms/step - loss: 0.4200 - accuracy: 0.8009 - val_loss: 13.1466 - val_accuracy: 0.4267\n",
      "Epoch 151/300\n",
      "36/36 [==============================] - 4s 108ms/step - loss: 0.3743 - accuracy: 0.8191 - val_loss: 14.6810 - val_accuracy: 0.4250\n",
      "Epoch 152/300\n",
      "36/36 [==============================] - 4s 109ms/step - loss: 0.4067 - accuracy: 0.8000 - val_loss: 13.5291 - val_accuracy: 0.4533\n",
      "Epoch 153/300\n",
      "36/36 [==============================] - 4s 108ms/step - loss: 0.3794 - accuracy: 0.8183 - val_loss: 13.7265 - val_accuracy: 0.4417\n",
      "Epoch 154/300\n",
      "36/36 [==============================] - 4s 108ms/step - loss: 0.3954 - accuracy: 0.8035 - val_loss: 13.8729 - val_accuracy: 0.4433\n",
      "Epoch 155/300\n",
      "36/36 [==============================] - 4s 108ms/step - loss: 0.4097 - accuracy: 0.7948 - val_loss: 10.0035 - val_accuracy: 0.4417\n",
      "Epoch 156/300\n",
      "36/36 [==============================] - 4s 109ms/step - loss: 0.3901 - accuracy: 0.8139 - val_loss: 10.8813 - val_accuracy: 0.4117\n",
      "Epoch 157/300\n",
      "36/36 [==============================] - 4s 109ms/step - loss: 0.3679 - accuracy: 0.8304 - val_loss: 11.6066 - val_accuracy: 0.4250\n",
      "Epoch 158/300\n",
      "36/36 [==============================] - 4s 109ms/step - loss: 0.3856 - accuracy: 0.8113 - val_loss: 12.7660 - val_accuracy: 0.4150\n",
      "Epoch 159/300\n",
      "36/36 [==============================] - 4s 109ms/step - loss: 0.3557 - accuracy: 0.8348 - val_loss: 13.0304 - val_accuracy: 0.4200\n",
      "Epoch 160/300\n",
      "36/36 [==============================] - 4s 109ms/step - loss: 0.4060 - accuracy: 0.7974 - val_loss: 13.4507 - val_accuracy: 0.4217\n",
      "Epoch 161/300\n",
      "36/36 [==============================] - 4s 108ms/step - loss: 0.3806 - accuracy: 0.8243 - val_loss: 13.3676 - val_accuracy: 0.4350\n",
      "Epoch 162/300\n",
      "36/36 [==============================] - 4s 109ms/step - loss: 0.3941 - accuracy: 0.8061 - val_loss: 8.6354 - val_accuracy: 0.3883\n",
      "Epoch 163/300\n",
      "36/36 [==============================] - 4s 109ms/step - loss: 0.3900 - accuracy: 0.8078 - val_loss: 12.1064 - val_accuracy: 0.4100\n",
      "Epoch 164/300\n",
      "36/36 [==============================] - 4s 109ms/step - loss: 0.3850 - accuracy: 0.8183 - val_loss: 11.2627 - val_accuracy: 0.4467\n",
      "Epoch 165/300\n",
      "36/36 [==============================] - 4s 109ms/step - loss: 0.3849 - accuracy: 0.8113 - val_loss: 11.7160 - val_accuracy: 0.4400\n",
      "Epoch 166/300\n",
      "36/36 [==============================] - 4s 109ms/step - loss: 0.4012 - accuracy: 0.8096 - val_loss: 12.5011 - val_accuracy: 0.4683\n",
      "Epoch 167/300\n",
      "36/36 [==============================] - 4s 108ms/step - loss: 0.3870 - accuracy: 0.8104 - val_loss: 10.6545 - val_accuracy: 0.3683\n",
      "Epoch 168/300\n",
      "36/36 [==============================] - 4s 109ms/step - loss: 0.3854 - accuracy: 0.8104 - val_loss: 9.8010 - val_accuracy: 0.4183\n",
      "Epoch 169/300\n",
      "36/36 [==============================] - 4s 108ms/step - loss: 0.3852 - accuracy: 0.8130 - val_loss: 9.2334 - val_accuracy: 0.3867\n",
      "Epoch 170/300\n",
      "36/36 [==============================] - 4s 108ms/step - loss: 0.3916 - accuracy: 0.8061 - val_loss: 10.6155 - val_accuracy: 0.4233\n",
      "Epoch 171/300\n"
     ]
    },
    {
     "name": "stdout",
     "output_type": "stream",
     "text": [
      "36/36 [==============================] - 4s 109ms/step - loss: 0.3646 - accuracy: 0.8235 - val_loss: 11.5157 - val_accuracy: 0.3933\n",
      "Epoch 172/300\n",
      "36/36 [==============================] - 4s 108ms/step - loss: 0.3938 - accuracy: 0.8122 - val_loss: 10.1737 - val_accuracy: 0.4167\n",
      "Epoch 173/300\n",
      "36/36 [==============================] - 4s 109ms/step - loss: 0.3674 - accuracy: 0.8296 - val_loss: 12.6923 - val_accuracy: 0.4433\n",
      "Epoch 174/300\n",
      "36/36 [==============================] - 4s 109ms/step - loss: 0.3819 - accuracy: 0.8104 - val_loss: 12.7213 - val_accuracy: 0.4667\n",
      "Epoch 175/300\n",
      "36/36 [==============================] - 4s 108ms/step - loss: 0.3808 - accuracy: 0.8252 - val_loss: 10.8325 - val_accuracy: 0.4383\n",
      "Epoch 176/300\n",
      "36/36 [==============================] - 4s 108ms/step - loss: 0.3944 - accuracy: 0.8052 - val_loss: 10.4510 - val_accuracy: 0.3550\n",
      "Epoch 177/300\n",
      "36/36 [==============================] - 4s 108ms/step - loss: 0.3916 - accuracy: 0.8165 - val_loss: 12.0323 - val_accuracy: 0.4433\n",
      "Epoch 178/300\n",
      "36/36 [==============================] - 4s 109ms/step - loss: 0.3735 - accuracy: 0.8165 - val_loss: 11.8251 - val_accuracy: 0.4583\n",
      "Epoch 179/300\n",
      "36/36 [==============================] - 4s 108ms/step - loss: 0.3800 - accuracy: 0.8183 - val_loss: 13.9454 - val_accuracy: 0.4217\n",
      "Epoch 180/300\n",
      "36/36 [==============================] - 4s 108ms/step - loss: 0.3852 - accuracy: 0.8183 - val_loss: 10.7432 - val_accuracy: 0.4167\n",
      "Epoch 181/300\n",
      "36/36 [==============================] - 4s 108ms/step - loss: 0.3784 - accuracy: 0.8191 - val_loss: 12.4988 - val_accuracy: 0.3900\n",
      "Epoch 182/300\n",
      "36/36 [==============================] - 4s 109ms/step - loss: 0.3964 - accuracy: 0.8183 - val_loss: 9.1860 - val_accuracy: 0.4167\n",
      "Epoch 183/300\n",
      "36/36 [==============================] - 4s 109ms/step - loss: 0.3814 - accuracy: 0.8217 - val_loss: 11.2581 - val_accuracy: 0.4000\n",
      "Epoch 184/300\n",
      "36/36 [==============================] - 4s 110ms/step - loss: 0.4026 - accuracy: 0.8043 - val_loss: 12.5634 - val_accuracy: 0.3650\n",
      "Epoch 185/300\n",
      "36/36 [==============================] - 4s 112ms/step - loss: 0.3819 - accuracy: 0.8174 - val_loss: 14.3777 - val_accuracy: 0.4183\n",
      "Epoch 186/300\n",
      "36/36 [==============================] - 4s 112ms/step - loss: 0.3788 - accuracy: 0.8174 - val_loss: 14.2126 - val_accuracy: 0.4233\n",
      "Epoch 187/300\n",
      "36/36 [==============================] - 4s 108ms/step - loss: 0.3740 - accuracy: 0.8209 - val_loss: 10.3983 - val_accuracy: 0.3533\n",
      "Epoch 188/300\n",
      "36/36 [==============================] - 4s 108ms/step - loss: 0.3755 - accuracy: 0.8148 - val_loss: 13.1809 - val_accuracy: 0.4267\n",
      "Epoch 189/300\n",
      "36/36 [==============================] - 4s 109ms/step - loss: 0.3579 - accuracy: 0.8278 - val_loss: 15.5383 - val_accuracy: 0.3900\n",
      "Epoch 190/300\n",
      "36/36 [==============================] - 4s 109ms/step - loss: 0.3652 - accuracy: 0.8200 - val_loss: 13.0934 - val_accuracy: 0.4250\n",
      "Epoch 191/300\n",
      "36/36 [==============================] - 4s 111ms/step - loss: 0.4007 - accuracy: 0.8078 - val_loss: 10.7465 - val_accuracy: 0.3800\n",
      "Epoch 192/300\n",
      "36/36 [==============================] - 4s 110ms/step - loss: 0.3453 - accuracy: 0.8339 - val_loss: 15.2707 - val_accuracy: 0.4117\n",
      "Epoch 193/300\n",
      "36/36 [==============================] - 4s 111ms/step - loss: 0.3769 - accuracy: 0.8217 - val_loss: 12.8534 - val_accuracy: 0.4083\n",
      "Epoch 194/300\n",
      "36/36 [==============================] - 4s 110ms/step - loss: 0.3568 - accuracy: 0.8296 - val_loss: 15.3216 - val_accuracy: 0.3867\n",
      "Epoch 195/300\n",
      "36/36 [==============================] - 4s 108ms/step - loss: 0.3924 - accuracy: 0.8113 - val_loss: 13.2787 - val_accuracy: 0.3967\n",
      "Epoch 196/300\n",
      "36/36 [==============================] - 4s 108ms/step - loss: 0.3799 - accuracy: 0.8130 - val_loss: 11.6292 - val_accuracy: 0.3817\n",
      "Epoch 197/300\n",
      "36/36 [==============================] - 4s 108ms/step - loss: 0.3635 - accuracy: 0.8261 - val_loss: 14.6085 - val_accuracy: 0.4017\n",
      "Epoch 198/300\n",
      "36/36 [==============================] - 4s 109ms/step - loss: 0.3598 - accuracy: 0.8287 - val_loss: 14.8762 - val_accuracy: 0.4183\n",
      "Epoch 199/300\n",
      "36/36 [==============================] - 4s 108ms/step - loss: 0.3480 - accuracy: 0.8374 - val_loss: 13.5425 - val_accuracy: 0.3733\n",
      "Epoch 200/300\n",
      "36/36 [==============================] - 4s 108ms/step - loss: 0.3660 - accuracy: 0.8261 - val_loss: 11.3922 - val_accuracy: 0.3950\n",
      "Epoch 201/300\n",
      "36/36 [==============================] - 4s 108ms/step - loss: 0.3783 - accuracy: 0.8148 - val_loss: 13.5773 - val_accuracy: 0.3917\n",
      "Epoch 202/300\n",
      "36/36 [==============================] - 4s 108ms/step - loss: 0.3718 - accuracy: 0.8235 - val_loss: 12.2366 - val_accuracy: 0.3900\n",
      "Epoch 203/300\n",
      "36/36 [==============================] - 4s 109ms/step - loss: 0.3725 - accuracy: 0.8070 - val_loss: 15.1945 - val_accuracy: 0.3933\n",
      "Epoch 204/300\n",
      "36/36 [==============================] - 4s 112ms/step - loss: 0.3887 - accuracy: 0.8130 - val_loss: 13.1379 - val_accuracy: 0.4100\n",
      "Epoch 205/300\n",
      "36/36 [==============================] - 4s 110ms/step - loss: 0.3636 - accuracy: 0.8322 - val_loss: 12.5040 - val_accuracy: 0.4100\n",
      "Epoch 206/300\n",
      "36/36 [==============================] - 4s 110ms/step - loss: 0.3695 - accuracy: 0.8287 - val_loss: 11.4548 - val_accuracy: 0.3783\n",
      "Epoch 207/300\n",
      "36/36 [==============================] - 4s 110ms/step - loss: 0.3647 - accuracy: 0.8313 - val_loss: 13.3372 - val_accuracy: 0.4200\n",
      "Epoch 208/300\n",
      "36/36 [==============================] - 4s 110ms/step - loss: 0.3716 - accuracy: 0.8226 - val_loss: 13.9827 - val_accuracy: 0.4017\n",
      "Epoch 209/300\n",
      "36/36 [==============================] - 4s 110ms/step - loss: 0.3537 - accuracy: 0.8313 - val_loss: 14.8920 - val_accuracy: 0.4350\n",
      "Epoch 210/300\n",
      "36/36 [==============================] - 4s 111ms/step - loss: 0.3627 - accuracy: 0.8217 - val_loss: 14.3854 - val_accuracy: 0.4017\n",
      "Epoch 211/300\n",
      "36/36 [==============================] - 4s 111ms/step - loss: 0.3717 - accuracy: 0.8209 - val_loss: 15.1208 - val_accuracy: 0.4267\n",
      "Epoch 212/300\n",
      "36/36 [==============================] - 4s 110ms/step - loss: 0.3714 - accuracy: 0.8130 - val_loss: 16.3299 - val_accuracy: 0.4483\n",
      "Epoch 213/300\n",
      "36/36 [==============================] - 4s 111ms/step - loss: 0.3635 - accuracy: 0.8217 - val_loss: 17.9248 - val_accuracy: 0.4283\n",
      "Epoch 214/300\n",
      "36/36 [==============================] - 4s 111ms/step - loss: 0.3556 - accuracy: 0.8313 - val_loss: 15.6491 - val_accuracy: 0.3917\n",
      "Epoch 215/300\n",
      "36/36 [==============================] - 4s 114ms/step - loss: 0.3429 - accuracy: 0.8348 - val_loss: 17.5736 - val_accuracy: 0.4250\n",
      "Epoch 216/300\n",
      "36/36 [==============================] - 4s 110ms/step - loss: 0.3565 - accuracy: 0.8226 - val_loss: 16.2528 - val_accuracy: 0.4000\n",
      "Epoch 217/300\n",
      "36/36 [==============================] - 4s 107ms/step - loss: 0.3536 - accuracy: 0.8270 - val_loss: 14.6899 - val_accuracy: 0.4300\n",
      "Epoch 218/300\n",
      "36/36 [==============================] - 4s 108ms/step - loss: 0.3822 - accuracy: 0.8070 - val_loss: 15.2100 - val_accuracy: 0.4083\n",
      "Epoch 219/300\n",
      "36/36 [==============================] - 4s 108ms/step - loss: 0.3455 - accuracy: 0.8443 - val_loss: 15.0824 - val_accuracy: 0.4167\n",
      "Epoch 220/300\n",
      "36/36 [==============================] - 4s 109ms/step - loss: 0.3719 - accuracy: 0.8191 - val_loss: 11.3645 - val_accuracy: 0.4167\n",
      "Epoch 221/300\n",
      "36/36 [==============================] - 4s 109ms/step - loss: 0.3682 - accuracy: 0.8226 - val_loss: 13.2311 - val_accuracy: 0.4250\n",
      "Epoch 222/300\n",
      "36/36 [==============================] - 4s 109ms/step - loss: 0.3435 - accuracy: 0.8322 - val_loss: 14.2848 - val_accuracy: 0.4100\n",
      "Epoch 223/300\n",
      "36/36 [==============================] - 4s 108ms/step - loss: 0.3557 - accuracy: 0.8383 - val_loss: 16.1578 - val_accuracy: 0.4100\n",
      "Epoch 224/300\n",
      "36/36 [==============================] - 4s 109ms/step - loss: 0.3592 - accuracy: 0.8200 - val_loss: 14.0174 - val_accuracy: 0.4217\n",
      "Epoch 225/300\n",
      "36/36 [==============================] - 4s 108ms/step - loss: 0.3616 - accuracy: 0.8139 - val_loss: 14.8712 - val_accuracy: 0.4283\n",
      "Epoch 226/300\n",
      "36/36 [==============================] - 4s 109ms/step - loss: 0.3451 - accuracy: 0.8417 - val_loss: 13.1213 - val_accuracy: 0.3900\n",
      "Epoch 227/300\n"
     ]
    },
    {
     "name": "stdout",
     "output_type": "stream",
     "text": [
      "36/36 [==============================] - 4s 109ms/step - loss: 0.3301 - accuracy: 0.8522 - val_loss: 14.7930 - val_accuracy: 0.4133\n",
      "Epoch 228/300\n",
      "36/36 [==============================] - 4s 108ms/step - loss: 0.3686 - accuracy: 0.8209 - val_loss: 14.3943 - val_accuracy: 0.4167\n",
      "Epoch 229/300\n",
      "36/36 [==============================] - 4s 108ms/step - loss: 0.3590 - accuracy: 0.8243 - val_loss: 11.9837 - val_accuracy: 0.3750\n",
      "Epoch 230/300\n",
      "36/36 [==============================] - 4s 109ms/step - loss: 0.3723 - accuracy: 0.8104 - val_loss: 15.9682 - val_accuracy: 0.4133\n",
      "Epoch 231/300\n",
      "36/36 [==============================] - 4s 109ms/step - loss: 0.3392 - accuracy: 0.8496 - val_loss: 18.3856 - val_accuracy: 0.4317\n",
      "Epoch 232/300\n",
      "36/36 [==============================] - 4s 108ms/step - loss: 0.4060 - accuracy: 0.8043 - val_loss: 12.8795 - val_accuracy: 0.3967\n",
      "Epoch 233/300\n",
      "36/36 [==============================] - 4s 109ms/step - loss: 0.3880 - accuracy: 0.8200 - val_loss: 10.6189 - val_accuracy: 0.3817\n",
      "Epoch 234/300\n",
      "36/36 [==============================] - 4s 108ms/step - loss: 0.3423 - accuracy: 0.8391 - val_loss: 15.2146 - val_accuracy: 0.4183\n",
      "Epoch 235/300\n",
      "36/36 [==============================] - 4s 109ms/step - loss: 0.3507 - accuracy: 0.8426 - val_loss: 16.7521 - val_accuracy: 0.4067\n",
      "Epoch 236/300\n",
      "36/36 [==============================] - 4s 108ms/step - loss: 0.3633 - accuracy: 0.8270 - val_loss: 14.2040 - val_accuracy: 0.4383\n",
      "Epoch 237/300\n",
      "36/36 [==============================] - 4s 108ms/step - loss: 0.3910 - accuracy: 0.8183 - val_loss: 14.1276 - val_accuracy: 0.4117\n",
      "Epoch 238/300\n",
      "36/36 [==============================] - 4s 108ms/step - loss: 0.3439 - accuracy: 0.8313 - val_loss: 15.6959 - val_accuracy: 0.4367\n",
      "Epoch 239/300\n",
      "36/36 [==============================] - 4s 108ms/step - loss: 0.3472 - accuracy: 0.8478 - val_loss: 14.7338 - val_accuracy: 0.4117\n",
      "Epoch 240/300\n",
      "36/36 [==============================] - 4s 109ms/step - loss: 0.3308 - accuracy: 0.8452 - val_loss: 18.8346 - val_accuracy: 0.4333\n",
      "Epoch 241/300\n",
      "36/36 [==============================] - 4s 109ms/step - loss: 0.3466 - accuracy: 0.8322 - val_loss: 13.9579 - val_accuracy: 0.3700\n",
      "Epoch 242/300\n",
      "36/36 [==============================] - 4s 109ms/step - loss: 0.3617 - accuracy: 0.8148 - val_loss: 15.5761 - val_accuracy: 0.4133\n",
      "Epoch 243/300\n",
      "36/36 [==============================] - 4s 109ms/step - loss: 0.3437 - accuracy: 0.8357 - val_loss: 18.1634 - val_accuracy: 0.4383\n",
      "Epoch 244/300\n",
      "36/36 [==============================] - 4s 108ms/step - loss: 0.3579 - accuracy: 0.8183 - val_loss: 14.5132 - val_accuracy: 0.4000\n",
      "Epoch 245/300\n",
      "36/36 [==============================] - 4s 108ms/step - loss: 0.3433 - accuracy: 0.8417 - val_loss: 16.4808 - val_accuracy: 0.4283\n",
      "Epoch 246/300\n",
      "36/36 [==============================] - 4s 109ms/step - loss: 0.3479 - accuracy: 0.8365 - val_loss: 16.9828 - val_accuracy: 0.4533\n",
      "Epoch 247/300\n",
      "36/36 [==============================] - 4s 110ms/step - loss: 0.3278 - accuracy: 0.8478 - val_loss: 15.6501 - val_accuracy: 0.4500\n",
      "Epoch 248/300\n",
      "36/36 [==============================] - 4s 109ms/step - loss: 0.3520 - accuracy: 0.8296 - val_loss: 15.3816 - val_accuracy: 0.4417\n",
      "Epoch 249/300\n",
      "36/36 [==============================] - 4s 109ms/step - loss: 0.3654 - accuracy: 0.8296 - val_loss: 17.5745 - val_accuracy: 0.4450\n",
      "Epoch 250/300\n",
      "36/36 [==============================] - 4s 110ms/step - loss: 0.3478 - accuracy: 0.8365 - val_loss: 16.4124 - val_accuracy: 0.4700\n",
      "Epoch 251/300\n",
      "36/36 [==============================] - 4s 111ms/step - loss: 0.3353 - accuracy: 0.8409 - val_loss: 17.4639 - val_accuracy: 0.4133\n",
      "Epoch 252/300\n",
      "36/36 [==============================] - 4s 109ms/step - loss: 0.3371 - accuracy: 0.8330 - val_loss: 18.9659 - val_accuracy: 0.4383\n",
      "Epoch 253/300\n",
      "36/36 [==============================] - 4s 109ms/step - loss: 0.3416 - accuracy: 0.8470 - val_loss: 15.3693 - val_accuracy: 0.4217\n",
      "Epoch 254/300\n",
      "36/36 [==============================] - 4s 109ms/step - loss: 0.3499 - accuracy: 0.8252 - val_loss: 15.6026 - val_accuracy: 0.4250\n",
      "Epoch 255/300\n",
      "36/36 [==============================] - 4s 108ms/step - loss: 0.3439 - accuracy: 0.8313 - val_loss: 14.5816 - val_accuracy: 0.4133\n",
      "Epoch 256/300\n",
      "36/36 [==============================] - 4s 108ms/step - loss: 0.3517 - accuracy: 0.8374 - val_loss: 15.8322 - val_accuracy: 0.4350\n",
      "Epoch 257/300\n",
      "36/36 [==============================] - 4s 109ms/step - loss: 0.3476 - accuracy: 0.8287 - val_loss: 20.6326 - val_accuracy: 0.4300\n",
      "Epoch 258/300\n",
      "36/36 [==============================] - 4s 109ms/step - loss: 0.3435 - accuracy: 0.8400 - val_loss: 19.0330 - val_accuracy: 0.4517\n",
      "Epoch 259/300\n",
      "36/36 [==============================] - 4s 108ms/step - loss: 0.3360 - accuracy: 0.8348 - val_loss: 19.5000 - val_accuracy: 0.4450\n",
      "Epoch 260/300\n",
      "36/36 [==============================] - 4s 109ms/step - loss: 0.3214 - accuracy: 0.8487 - val_loss: 20.6719 - val_accuracy: 0.4467\n",
      "Epoch 261/300\n",
      "36/36 [==============================] - 4s 110ms/step - loss: 0.3382 - accuracy: 0.8435 - val_loss: 18.4781 - val_accuracy: 0.4800\n",
      "Epoch 262/300\n",
      "36/36 [==============================] - 4s 108ms/step - loss: 0.3494 - accuracy: 0.8348 - val_loss: 21.6670 - val_accuracy: 0.4350\n",
      "Epoch 263/300\n",
      "36/36 [==============================] - 4s 111ms/step - loss: 0.3422 - accuracy: 0.8400 - val_loss: 20.6054 - val_accuracy: 0.4617\n",
      "Epoch 264/300\n",
      "36/36 [==============================] - 4s 109ms/step - loss: 0.3374 - accuracy: 0.8374 - val_loss: 16.1074 - val_accuracy: 0.4600\n",
      "Epoch 265/300\n",
      "36/36 [==============================] - 4s 111ms/step - loss: 0.3802 - accuracy: 0.8313 - val_loss: 18.3078 - val_accuracy: 0.4167\n",
      "Epoch 266/300\n",
      "36/36 [==============================] - 4s 110ms/step - loss: 0.3299 - accuracy: 0.8557 - val_loss: 19.1055 - val_accuracy: 0.3983\n",
      "Epoch 267/300\n",
      "36/36 [==============================] - 4s 110ms/step - loss: 0.3305 - accuracy: 0.8548 - val_loss: 16.9979 - val_accuracy: 0.4533\n",
      "Epoch 268/300\n",
      "36/36 [==============================] - 4s 112ms/step - loss: 0.3425 - accuracy: 0.8365 - val_loss: 15.8877 - val_accuracy: 0.4083\n",
      "Epoch 269/300\n",
      "36/36 [==============================] - 4s 111ms/step - loss: 0.3467 - accuracy: 0.8417 - val_loss: 12.6654 - val_accuracy: 0.3900\n",
      "Epoch 270/300\n",
      "36/36 [==============================] - 4s 108ms/step - loss: 0.3328 - accuracy: 0.8409 - val_loss: 14.5201 - val_accuracy: 0.4133\n",
      "Epoch 271/300\n",
      "36/36 [==============================] - 4s 108ms/step - loss: 0.3405 - accuracy: 0.8339 - val_loss: 17.1759 - val_accuracy: 0.4283\n",
      "Epoch 272/300\n",
      "36/36 [==============================] - 4s 109ms/step - loss: 0.3476 - accuracy: 0.8365 - val_loss: 14.2573 - val_accuracy: 0.4033\n",
      "Epoch 273/300\n",
      "36/36 [==============================] - 4s 108ms/step - loss: 0.3295 - accuracy: 0.8417 - val_loss: 15.1781 - val_accuracy: 0.4317\n",
      "Epoch 274/300\n",
      "36/36 [==============================] - 4s 108ms/step - loss: 0.3308 - accuracy: 0.8417 - val_loss: 16.6782 - val_accuracy: 0.4350\n",
      "Epoch 275/300\n",
      "36/36 [==============================] - 4s 108ms/step - loss: 0.3378 - accuracy: 0.8513 - val_loss: 14.9137 - val_accuracy: 0.4000\n",
      "Epoch 276/300\n",
      "36/36 [==============================] - 4s 108ms/step - loss: 0.3440 - accuracy: 0.8435 - val_loss: 16.9088 - val_accuracy: 0.4117\n",
      "Epoch 277/300\n",
      "36/36 [==============================] - 4s 109ms/step - loss: 0.3249 - accuracy: 0.8470 - val_loss: 16.0231 - val_accuracy: 0.4133\n",
      "Epoch 278/300\n",
      "36/36 [==============================] - 4s 109ms/step - loss: 0.3310 - accuracy: 0.8496 - val_loss: 17.2981 - val_accuracy: 0.3917\n",
      "Epoch 279/300\n",
      "36/36 [==============================] - 4s 108ms/step - loss: 0.3293 - accuracy: 0.8348 - val_loss: 22.0223 - val_accuracy: 0.4433\n",
      "Epoch 280/300\n",
      "36/36 [==============================] - 4s 109ms/step - loss: 0.3541 - accuracy: 0.8313 - val_loss: 17.7600 - val_accuracy: 0.4550\n",
      "Epoch 281/300\n",
      "36/36 [==============================] - 4s 107ms/step - loss: 0.3364 - accuracy: 0.8496 - val_loss: 13.9746 - val_accuracy: 0.4133\n",
      "Epoch 282/300\n",
      "36/36 [==============================] - 4s 109ms/step - loss: 0.3348 - accuracy: 0.8461 - val_loss: 15.3191 - val_accuracy: 0.4267\n",
      "Epoch 283/300\n"
     ]
    },
    {
     "name": "stdout",
     "output_type": "stream",
     "text": [
      "36/36 [==============================] - 4s 111ms/step - loss: 0.3533 - accuracy: 0.8287 - val_loss: 12.7528 - val_accuracy: 0.4150\n",
      "Epoch 284/300\n",
      "36/36 [==============================] - 4s 111ms/step - loss: 0.3233 - accuracy: 0.8504 - val_loss: 15.7056 - val_accuracy: 0.4100\n",
      "Epoch 285/300\n",
      "36/36 [==============================] - 4s 108ms/step - loss: 0.3264 - accuracy: 0.8391 - val_loss: 14.6636 - val_accuracy: 0.4067\n",
      "Epoch 286/300\n",
      "36/36 [==============================] - 4s 111ms/step - loss: 0.3336 - accuracy: 0.8443 - val_loss: 16.5041 - val_accuracy: 0.4333\n",
      "Epoch 287/300\n",
      "36/36 [==============================] - 4s 109ms/step - loss: 0.3202 - accuracy: 0.8478 - val_loss: 15.9195 - val_accuracy: 0.4217\n",
      "Epoch 288/300\n",
      "36/36 [==============================] - 4s 109ms/step - loss: 0.3455 - accuracy: 0.8374 - val_loss: 15.0891 - val_accuracy: 0.4483\n",
      "Epoch 289/300\n",
      "36/36 [==============================] - 4s 110ms/step - loss: 0.3353 - accuracy: 0.8513 - val_loss: 15.3512 - val_accuracy: 0.3933\n",
      "Epoch 290/300\n",
      "36/36 [==============================] - 4s 109ms/step - loss: 0.3260 - accuracy: 0.8443 - val_loss: 16.6633 - val_accuracy: 0.4433\n",
      "Epoch 291/300\n",
      "36/36 [==============================] - 4s 110ms/step - loss: 0.3415 - accuracy: 0.8391 - val_loss: 18.3772 - val_accuracy: 0.4300\n",
      "Epoch 292/300\n",
      "36/36 [==============================] - 4s 111ms/step - loss: 0.3277 - accuracy: 0.8574 - val_loss: 17.9510 - val_accuracy: 0.4567\n",
      "Epoch 293/300\n",
      "36/36 [==============================] - 4s 109ms/step - loss: 0.3355 - accuracy: 0.8348 - val_loss: 16.4886 - val_accuracy: 0.4333\n",
      "Epoch 294/300\n",
      "36/36 [==============================] - 4s 110ms/step - loss: 0.3385 - accuracy: 0.8443 - val_loss: 19.8884 - val_accuracy: 0.4300\n",
      "Epoch 295/300\n",
      "36/36 [==============================] - 4s 109ms/step - loss: 0.3194 - accuracy: 0.8487 - val_loss: 18.4435 - val_accuracy: 0.4367\n",
      "Epoch 296/300\n",
      "36/36 [==============================] - 4s 109ms/step - loss: 0.3147 - accuracy: 0.8487 - val_loss: 20.5936 - val_accuracy: 0.4450\n",
      "Epoch 297/300\n",
      "36/36 [==============================] - 4s 110ms/step - loss: 0.3239 - accuracy: 0.8443 - val_loss: 20.8041 - val_accuracy: 0.4417\n",
      "Epoch 298/300\n",
      "36/36 [==============================] - 4s 110ms/step - loss: 0.3118 - accuracy: 0.8643 - val_loss: 19.4305 - val_accuracy: 0.4400\n",
      "Epoch 299/300\n",
      "36/36 [==============================] - 4s 109ms/step - loss: 0.3225 - accuracy: 0.8452 - val_loss: 18.2761 - val_accuracy: 0.4283\n",
      "Epoch 300/300\n",
      "36/36 [==============================] - 4s 110ms/step - loss: 0.3113 - accuracy: 0.8548 - val_loss: 20.5125 - val_accuracy: 0.4167\n"
     ]
    },
    {
     "data": {
      "text/plain": [
       "<keras.callbacks.History at 0x1295ac0a0>"
      ]
     },
     "execution_count": 13,
     "metadata": {},
     "output_type": "execute_result"
    }
   ],
   "source": [
    "#checking the accuracy of the algorithm on the test data\n",
    "cnn.fit(x = training_set, validation_data = test_set, epochs = 300)\n",
    "\n"
   ]
  },
  {
   "cell_type": "code",
   "execution_count": 20,
   "id": "4bc8b0ea",
   "metadata": {
    "id": "4bc8b0ea",
    "outputId": "8ff8ea49-4204-4c6e-8ffd-5a0f4a810636"
   },
   "outputs": [
    {
     "name": "stdout",
     "output_type": "stream",
     "text": [
      "1/1 [==============================] - 0s 13ms/step\n"
     ]
    }
   ],
   "source": [
    "#predicting the state of alertness for the driver\n",
    "import numpy as np\n",
    "from keras.preprocessing import image\n",
    "test_image = tf.keras.preprocessing.image.load_img('/Users/namanvasudeva/Downloads/DAtaset/predict/check.jpg', target_size = (64, 64))\n",
    "test_image = tf.keras.preprocessing.image.img_to_array(test_image)\n",
    "test_image = np.expand_dims(test_image, axis = 0)\n",
    "result = cnn.predict(test_image)\n",
    "training_set.class_indices\n",
    "if result[0][0] == 1:\n",
    "  prediction = 'Alert'\n",
    "else:\n",
    "  prediction = 'Drowsy'"
   ]
  },
  {
   "cell_type": "code",
   "execution_count": 21,
   "id": "f24640bd",
   "metadata": {
    "id": "f24640bd",
    "outputId": "7dab59e7-3153-4fd9-8260-a651769b2f09"
   },
   "outputs": [
    {
     "name": "stdout",
     "output_type": "stream",
     "text": [
      "Drowsy\n"
     ]
    }
   ],
   "source": [
    "#printing the prediction\n",
    "print(prediction)"
   ]
  },
  {
   "cell_type": "code",
   "execution_count": 22,
   "id": "222f40c2",
   "metadata": {},
   "outputs": [
    {
     "name": "stdout",
     "output_type": "stream",
     "text": [
      "1/1 [==============================] - 0s 13ms/step\n"
     ]
    }
   ],
   "source": [
    "#predicting the state of alertness for the driver\n",
    "import numpy as np\n",
    "from keras.preprocessing import image\n",
    "test_image = tf.keras.preprocessing.image.load_img('/Users/namanvasudeva/Downloads/DAtaset/predict/images.jpeg', target_size = (64, 64))\n",
    "test_image = tf.keras.preprocessing.image.img_to_array(test_image)\n",
    "test_image = np.expand_dims(test_image, axis = 0)\n",
    "result = cnn.predict(test_image)\n",
    "training_set.class_indices\n",
    "if result[0][0] == 1:\n",
    "  prediction = 'Alert'\n",
    "else:\n",
    "  prediction = 'Drowsy'\n"
   ]
  },
  {
   "cell_type": "code",
   "execution_count": 23,
   "id": "b6adc600",
   "metadata": {
    "id": "f24640bd",
    "outputId": "7dab59e7-3153-4fd9-8260-a651769b2f09"
   },
   "outputs": [
    {
     "name": "stdout",
     "output_type": "stream",
     "text": [
      "Drowsy\n"
     ]
    }
   ],
   "source": [
    "#printing the prediction\n",
    "print(prediction)"
   ]
  },
  {
   "cell_type": "code",
   "execution_count": 24,
   "id": "348fa3ad",
   "metadata": {},
   "outputs": [
    {
     "name": "stdout",
     "output_type": "stream",
     "text": [
      "1/1 [==============================] - 0s 15ms/step\n"
     ]
    }
   ],
   "source": [
    "#predicting the state of alertness for the driver\n",
    "import numpy as np\n",
    "from keras.preprocessing import image\n",
    "test_image = tf.keras.preprocessing.image.load_img('/Users/namanvasudeva/Downloads/DAtaset/predict/images-4.jpeg', target_size = (64, 64))\n",
    "test_image = tf.keras.preprocessing.image.img_to_array(test_image)\n",
    "test_image = np.expand_dims(test_image, axis = 0)\n",
    "result = cnn.predict(test_image)\n",
    "training_set.class_indices\n",
    "if result[0][0] == 1:\n",
    "  prediction = 'Drowsy'\n",
    "else:\n",
    "  prediction = 'Alert'"
   ]
  },
  {
   "cell_type": "code",
   "execution_count": 25,
   "id": "501427fa",
   "metadata": {},
   "outputs": [
    {
     "name": "stdout",
     "output_type": "stream",
     "text": [
      "Alert\n"
     ]
    }
   ],
   "source": [
    "#printing the prediction\n",
    "print(prediction)"
   ]
  },
  {
   "cell_type": "code",
   "execution_count": null,
   "id": "efa003ce",
   "metadata": {},
   "outputs": [],
   "source": []
  }
 ],
 "metadata": {
  "colab": {
   "collapsed_sections": [],
   "name": "Cat vs Dog image detector",
   "provenance": []
  },
  "kernelspec": {
   "display_name": "Python 3 (ipykernel)",
   "language": "python",
   "name": "python3"
  },
  "language_info": {
   "codemirror_mode": {
    "name": "ipython",
    "version": 3
   },
   "file_extension": ".py",
   "mimetype": "text/x-python",
   "name": "python",
   "nbconvert_exporter": "python",
   "pygments_lexer": "ipython3",
   "version": "3.9.13"
  }
 },
 "nbformat": 4,
 "nbformat_minor": 5
}
