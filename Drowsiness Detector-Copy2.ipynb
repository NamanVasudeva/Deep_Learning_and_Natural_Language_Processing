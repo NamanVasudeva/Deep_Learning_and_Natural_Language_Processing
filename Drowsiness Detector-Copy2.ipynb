{
 "cells": [
  {
   "cell_type": "code",
   "execution_count": 1,
   "id": "87887085",
   "metadata": {
    "id": "87887085"
   },
   "outputs": [],
   "source": [
    "import tensorflow as tf\n",
    "from keras.preprocessing.image import ImageDataGenerator\n",
    "import os"
   ]
  },
  {
   "cell_type": "code",
   "execution_count": 2,
   "id": "c9b3885b",
   "metadata": {
    "id": "c9b3885b",
    "outputId": "14d6f50b-0b25-40aa-fda6-4c0cc8c01a28"
   },
   "outputs": [
    {
     "data": {
      "text/plain": [
       "'2.9.2'"
      ]
     },
     "execution_count": 2,
     "metadata": {},
     "output_type": "execute_result"
    }
   ],
   "source": [
    "tf.__version__\n"
   ]
  },
  {
   "cell_type": "code",
   "execution_count": 3,
   "id": "2463c436",
   "metadata": {
    "id": "2463c436",
    "outputId": "3baefc48-e594-45dc-dd4f-8a6d4d5db872"
   },
   "outputs": [
    {
     "name": "stdout",
     "output_type": "stream",
     "text": [
      "Found 2604 images belonging to 4 classes.\n"
     ]
    }
   ],
   "source": [
    "train_datagen = ImageDataGenerator(rescale = 1./255,\n",
    "                                   shear_range = 0.2,\n",
    "                                   zoom_range = 0.2,\n",
    "                                   brightness_range=(0.1, 0.9),\n",
    "                                   channel_shift_range=150.0,\n",
    "                                   width_shift_range=0.3,\n",
    "                                   height_shift_range=0.3,\n",
    "                                   horizontal_flip = True)\n",
    "training_set = train_datagen.flow_from_directory('/Users/namanvasudeva/Downloads/train 4/train',\n",
    "                                                 target_size = (64, 64),\n",
    "                                                 batch_size = 32)"
   ]
  },
  {
   "cell_type": "code",
   "execution_count": 4,
   "id": "546d626b",
   "metadata": {
    "id": "546d626b",
    "outputId": "f0f2ad77-b47f-41af-832b-f40cc31f5691"
   },
   "outputs": [
    {
     "name": "stdout",
     "output_type": "stream",
     "text": [
      "Found 296 images belonging to 4 classes.\n"
     ]
    }
   ],
   "source": [
    "test_datagen = ImageDataGenerator(rescale = 1./255)\n",
    "test_set = test_datagen.flow_from_directory('/Users/namanvasudeva/Downloads/train 4/test',\n",
    "                                            target_size = (64, 64),\n",
    "                                            batch_size = 32)"
   ]
  },
  {
   "cell_type": "code",
   "execution_count": 5,
   "id": "f2ae3071",
   "metadata": {
    "id": "f2ae3071"
   },
   "outputs": [
    {
     "name": "stdout",
     "output_type": "stream",
     "text": [
      "Metal device set to: Apple M1\n"
     ]
    },
    {
     "name": "stderr",
     "output_type": "stream",
     "text": [
      "2022-07-23 21:17:43.280081: I tensorflow/core/common_runtime/pluggable_device/pluggable_device_factory.cc:305] Could not identify NUMA node of platform GPU ID 0, defaulting to 0. Your kernel may not have been built with NUMA support.\n",
      "2022-07-23 21:17:43.280226: I tensorflow/core/common_runtime/pluggable_device/pluggable_device_factory.cc:271] Created TensorFlow device (/job:localhost/replica:0/task:0/device:GPU:0 with 0 MB memory) -> physical PluggableDevice (device: 0, name: METAL, pci bus id: <undefined>)\n"
     ]
    }
   ],
   "source": [
    "cnn = tf.keras.models.Sequential()"
   ]
  },
  {
   "cell_type": "code",
   "execution_count": 6,
   "id": "4333b4d7",
   "metadata": {
    "id": "4333b4d7"
   },
   "outputs": [],
   "source": [
    "cnn.add(tf.keras.layers.Conv2D(filters=32, kernel_size=3, activation='relu', input_shape=[64, 64, 3]))\n"
   ]
  },
  {
   "cell_type": "code",
   "execution_count": 7,
   "id": "d711cd9c",
   "metadata": {
    "id": "d711cd9c"
   },
   "outputs": [],
   "source": [
    "cnn.add(tf.keras.layers.MaxPool2D(pool_size=2, strides=2))\n"
   ]
  },
  {
   "cell_type": "code",
   "execution_count": 8,
   "id": "c3dc5984",
   "metadata": {
    "id": "c3dc5984"
   },
   "outputs": [],
   "source": [
    "cnn.add(tf.keras.layers.Conv2D(filters=32, kernel_size=3, activation='relu'))\n",
    "cnn.add(tf.keras.layers.MaxPool2D(pool_size=2, strides=2))\n"
   ]
  },
  {
   "cell_type": "code",
   "execution_count": 9,
   "id": "ecc5bf91",
   "metadata": {
    "id": "ecc5bf91"
   },
   "outputs": [],
   "source": [
    "cnn.add(tf.keras.layers.Flatten())\n"
   ]
  },
  {
   "cell_type": "code",
   "execution_count": 10,
   "id": "a460ac02",
   "metadata": {
    "id": "a460ac02"
   },
   "outputs": [],
   "source": [
    "cnn.add(tf.keras.layers.Dense(units=128, activation='relu'))\n"
   ]
  },
  {
   "cell_type": "code",
   "execution_count": 11,
   "id": "2d011e5f",
   "metadata": {
    "id": "2d011e5f"
   },
   "outputs": [],
   "source": [
    "cnn.add(tf.keras.layers.Dense(units=1, activation='sigmoid'))\n"
   ]
  },
  {
   "cell_type": "code",
   "execution_count": 12,
   "id": "909562c1",
   "metadata": {
    "id": "909562c1"
   },
   "outputs": [],
   "source": [
    "cnn.compile(optimizer = 'adam', loss = 'binary_crossentropy', metrics = ['accuracy'])\n"
   ]
  },
  {
   "cell_type": "code",
   "execution_count": 13,
   "id": "24186257",
   "metadata": {
    "id": "24186257",
    "outputId": "7018ad6f-f2c8-4141-b737-8f604d8eadd6",
    "scrolled": true
   },
   "outputs": [
    {
     "name": "stdout",
     "output_type": "stream",
     "text": [
      "Epoch 1/50\n"
     ]
    },
    {
     "name": "stderr",
     "output_type": "stream",
     "text": [
      "2022-07-23 21:17:43.833095: W tensorflow/core/platform/profile_utils/cpu_utils.cc:128] Failed to get CPU frequency: 0 Hz\n",
      "2022-07-23 21:17:44.139696: I tensorflow/core/grappler/optimizers/custom_graph_optimizer_registry.cc:113] Plugin optimizer for device_type GPU is enabled.\n"
     ]
    },
    {
     "name": "stdout",
     "output_type": "stream",
     "text": [
      "82/82 [==============================] - ETA: 0s - loss: 0.5697 - accuracy: 0.7442"
     ]
    },
    {
     "name": "stderr",
     "output_type": "stream",
     "text": [
      "2022-07-23 21:17:53.081601: I tensorflow/core/grappler/optimizers/custom_graph_optimizer_registry.cc:113] Plugin optimizer for device_type GPU is enabled.\n"
     ]
    },
    {
     "name": "stdout",
     "output_type": "stream",
     "text": [
      "82/82 [==============================] - 10s 92ms/step - loss: 0.5697 - accuracy: 0.7442 - val_loss: 0.5634 - val_accuracy: 0.7500\n",
      "Epoch 2/50\n",
      "82/82 [==============================] - 7s 87ms/step - loss: 0.5624 - accuracy: 0.7500 - val_loss: 0.5625 - val_accuracy: 0.7500\n",
      "Epoch 3/50\n",
      "82/82 [==============================] - 7s 86ms/step - loss: 0.5624 - accuracy: 0.7500 - val_loss: 0.5624 - val_accuracy: 0.7500\n",
      "Epoch 4/50\n",
      "82/82 [==============================] - 7s 88ms/step - loss: 0.5624 - accuracy: 0.7500 - val_loss: 0.5625 - val_accuracy: 0.7500\n",
      "Epoch 5/50\n",
      "82/82 [==============================] - 7s 88ms/step - loss: 0.5624 - accuracy: 0.7500 - val_loss: 0.5624 - val_accuracy: 0.7500\n",
      "Epoch 6/50\n",
      "82/82 [==============================] - 7s 88ms/step - loss: 0.5624 - accuracy: 0.7500 - val_loss: 0.5625 - val_accuracy: 0.7500\n",
      "Epoch 7/50\n",
      "82/82 [==============================] - 7s 89ms/step - loss: 0.5624 - accuracy: 0.7500 - val_loss: 0.5624 - val_accuracy: 0.7500\n",
      "Epoch 8/50\n",
      "82/82 [==============================] - 8s 91ms/step - loss: 0.5624 - accuracy: 0.7500 - val_loss: 0.5624 - val_accuracy: 0.7500\n",
      "Epoch 9/50\n",
      "82/82 [==============================] - 7s 87ms/step - loss: 0.5624 - accuracy: 0.7500 - val_loss: 0.5625 - val_accuracy: 0.7500\n",
      "Epoch 10/50\n",
      "82/82 [==============================] - 7s 89ms/step - loss: 0.5624 - accuracy: 0.7500 - val_loss: 0.5624 - val_accuracy: 0.7500\n",
      "Epoch 11/50\n",
      "82/82 [==============================] - 7s 89ms/step - loss: 0.5624 - accuracy: 0.7500 - val_loss: 0.5624 - val_accuracy: 0.7500\n",
      "Epoch 12/50\n",
      "82/82 [==============================] - 7s 88ms/step - loss: 0.5624 - accuracy: 0.7500 - val_loss: 0.5624 - val_accuracy: 0.7500\n",
      "Epoch 13/50\n",
      "82/82 [==============================] - 7s 88ms/step - loss: 0.5624 - accuracy: 0.7500 - val_loss: 0.5625 - val_accuracy: 0.7500\n",
      "Epoch 14/50\n",
      "82/82 [==============================] - 7s 87ms/step - loss: 0.5624 - accuracy: 0.7500 - val_loss: 0.5624 - val_accuracy: 0.7500\n",
      "Epoch 15/50\n",
      "82/82 [==============================] - 7s 88ms/step - loss: 0.5624 - accuracy: 0.7500 - val_loss: 0.5628 - val_accuracy: 0.7500\n",
      "Epoch 16/50\n",
      "82/82 [==============================] - 7s 87ms/step - loss: 0.5624 - accuracy: 0.7500 - val_loss: 0.5624 - val_accuracy: 0.7500\n",
      "Epoch 17/50\n",
      "82/82 [==============================] - 8s 95ms/step - loss: 0.5623 - accuracy: 0.7500 - val_loss: 0.5624 - val_accuracy: 0.7500\n",
      "Epoch 18/50\n",
      "82/82 [==============================] - 8s 95ms/step - loss: 0.5623 - accuracy: 0.7500 - val_loss: 0.5625 - val_accuracy: 0.7500\n",
      "Epoch 19/50\n",
      "82/82 [==============================] - 8s 94ms/step - loss: 0.5624 - accuracy: 0.7500 - val_loss: 0.5624 - val_accuracy: 0.7500\n",
      "Epoch 20/50\n",
      "82/82 [==============================] - 8s 92ms/step - loss: 0.5624 - accuracy: 0.7500 - val_loss: 0.5624 - val_accuracy: 0.7500\n",
      "Epoch 21/50\n",
      "82/82 [==============================] - 8s 93ms/step - loss: 0.5624 - accuracy: 0.7500 - val_loss: 0.5624 - val_accuracy: 0.7500\n",
      "Epoch 22/50\n",
      "82/82 [==============================] - 8s 93ms/step - loss: 0.5623 - accuracy: 0.7500 - val_loss: 0.5624 - val_accuracy: 0.7500\n",
      "Epoch 23/50\n",
      "82/82 [==============================] - 8s 98ms/step - loss: 0.5624 - accuracy: 0.7500 - val_loss: 0.5624 - val_accuracy: 0.7500\n",
      "Epoch 24/50\n",
      "82/82 [==============================] - 8s 96ms/step - loss: 0.5624 - accuracy: 0.7500 - val_loss: 0.5624 - val_accuracy: 0.7500\n",
      "Epoch 25/50\n",
      "82/82 [==============================] - 8s 92ms/step - loss: 0.5624 - accuracy: 0.7500 - val_loss: 0.5624 - val_accuracy: 0.7500\n",
      "Epoch 26/50\n",
      "82/82 [==============================] - 8s 93ms/step - loss: 0.5623 - accuracy: 0.7500 - val_loss: 0.5624 - val_accuracy: 0.7500\n",
      "Epoch 27/50\n",
      "82/82 [==============================] - 8s 93ms/step - loss: 0.5623 - accuracy: 0.7500 - val_loss: 0.5624 - val_accuracy: 0.7500\n",
      "Epoch 28/50\n",
      "82/82 [==============================] - 8s 94ms/step - loss: 0.5623 - accuracy: 0.7500 - val_loss: 0.5624 - val_accuracy: 0.7500\n",
      "Epoch 29/50\n",
      "82/82 [==============================] - 8s 94ms/step - loss: 0.5624 - accuracy: 0.7500 - val_loss: 0.5624 - val_accuracy: 0.7500\n",
      "Epoch 30/50\n",
      "82/82 [==============================] - 8s 94ms/step - loss: 0.5623 - accuracy: 0.7500 - val_loss: 0.5625 - val_accuracy: 0.7500\n",
      "Epoch 31/50\n",
      "82/82 [==============================] - 8s 93ms/step - loss: 0.5623 - accuracy: 0.7500 - val_loss: 0.5624 - val_accuracy: 0.7500\n",
      "Epoch 32/50\n",
      "82/82 [==============================] - 8s 94ms/step - loss: 0.5623 - accuracy: 0.7500 - val_loss: 0.5624 - val_accuracy: 0.7500\n",
      "Epoch 33/50\n",
      "82/82 [==============================] - 8s 94ms/step - loss: 0.5623 - accuracy: 0.7500 - val_loss: 0.5624 - val_accuracy: 0.7500\n",
      "Epoch 34/50\n",
      "82/82 [==============================] - 8s 94ms/step - loss: 0.5623 - accuracy: 0.7500 - val_loss: 0.5625 - val_accuracy: 0.7500\n",
      "Epoch 35/50\n",
      "82/82 [==============================] - 8s 95ms/step - loss: 0.5624 - accuracy: 0.7500 - val_loss: 0.5624 - val_accuracy: 0.7500\n",
      "Epoch 36/50\n",
      "82/82 [==============================] - 8s 94ms/step - loss: 0.5624 - accuracy: 0.7500 - val_loss: 0.5624 - val_accuracy: 0.7500\n",
      "Epoch 37/50\n",
      "82/82 [==============================] - 8s 93ms/step - loss: 0.5623 - accuracy: 0.7500 - val_loss: 0.5624 - val_accuracy: 0.7500\n",
      "Epoch 38/50\n",
      "82/82 [==============================] - 8s 94ms/step - loss: 0.5623 - accuracy: 0.7500 - val_loss: 0.5624 - val_accuracy: 0.7500\n",
      "Epoch 39/50\n",
      "82/82 [==============================] - 8s 94ms/step - loss: 0.5624 - accuracy: 0.7500 - val_loss: 0.5624 - val_accuracy: 0.7500\n",
      "Epoch 40/50\n",
      "82/82 [==============================] - 8s 94ms/step - loss: 0.5623 - accuracy: 0.7500 - val_loss: 0.5624 - val_accuracy: 0.7500\n",
      "Epoch 41/50\n",
      "82/82 [==============================] - 7s 88ms/step - loss: 0.5623 - accuracy: 0.7500 - val_loss: 0.5624 - val_accuracy: 0.7500\n",
      "Epoch 42/50\n",
      "82/82 [==============================] - 951s 12s/step - loss: 0.5623 - accuracy: 0.7500 - val_loss: 0.5624 - val_accuracy: 0.7500\n",
      "Epoch 43/50\n",
      "82/82 [==============================] - 514s 6s/step - loss: 0.5623 - accuracy: 0.7500 - val_loss: 0.5624 - val_accuracy: 0.7500\n",
      "Epoch 44/50\n",
      "82/82 [==============================] - 1083s 13s/step - loss: 0.5623 - accuracy: 0.7500 - val_loss: 0.5624 - val_accuracy: 0.7500\n",
      "Epoch 45/50\n",
      "82/82 [==============================] - 116s 1s/step - loss: 0.5623 - accuracy: 0.7500 - val_loss: 0.5625 - val_accuracy: 0.7500\n",
      "Epoch 46/50\n",
      "82/82 [==============================] - 947s 12s/step - loss: 0.5623 - accuracy: 0.7500 - val_loss: 0.5624 - val_accuracy: 0.7500\n",
      "Epoch 47/50\n",
      "82/82 [==============================] - 1038s 13s/step - loss: 0.5623 - accuracy: 0.7500 - val_loss: 0.5624 - val_accuracy: 0.7500\n",
      "Epoch 48/50\n",
      "82/82 [==============================] - 511s 6s/step - loss: 0.5623 - accuracy: 0.7500 - val_loss: 0.5624 - val_accuracy: 0.7500\n",
      "Epoch 49/50\n",
      "82/82 [==============================] - 39s 477ms/step - loss: 0.5623 - accuracy: 0.7500 - val_loss: 0.5624 - val_accuracy: 0.7500\n",
      "Epoch 50/50\n",
      "82/82 [==============================] - 43s 533ms/step - loss: 0.5623 - accuracy: 0.7500 - val_loss: 0.5624 - val_accuracy: 0.7500\n"
     ]
    },
    {
     "data": {
      "text/plain": [
       "<keras.callbacks.History at 0x15f598f40>"
      ]
     },
     "execution_count": 13,
     "metadata": {},
     "output_type": "execute_result"
    }
   ],
   "source": [
    "cnn.fit(x = training_set, validation_data = test_set, epochs = 50)\n",
    "\n"
   ]
  },
  {
   "cell_type": "code",
   "execution_count": 14,
   "id": "4bc8b0ea",
   "metadata": {
    "id": "4bc8b0ea",
    "outputId": "8ff8ea49-4204-4c6e-8ffd-5a0f4a810636"
   },
   "outputs": [
    {
     "name": "stderr",
     "output_type": "stream",
     "text": [
      "2022-07-23 22:50:16.705621: I tensorflow/core/grappler/optimizers/custom_graph_optimizer_registry.cc:113] Plugin optimizer for device_type GPU is enabled.\n"
     ]
    },
    {
     "name": "stdout",
     "output_type": "stream",
     "text": [
      "1/1 [==============================] - 0s 348ms/step\n"
     ]
    }
   ],
   "source": [
    "import numpy as np\n",
    "from keras.preprocessing import image\n",
    "test_image = tf.keras.preprocessing.image.load_img('/Users/namanvasudeva/Downloads/DAtaset/predict/check.jpg', target_size = (64, 64))\n",
    "test_image = tf.keras.preprocessing.image.img_to_array(test_image)\n",
    "test_image = np.expand_dims(test_image, axis = 0)\n",
    "result = cnn.predict(test_image)\n",
    "training_set.class_indices\n",
    "if result[0][0] == 1:\n",
    "  prediction = 'Drowsy'\n",
    "else:\n",
    "  prediction = 'Alert'"
   ]
  },
  {
   "cell_type": "code",
   "execution_count": 15,
   "id": "f24640bd",
   "metadata": {
    "id": "f24640bd",
    "outputId": "7dab59e7-3153-4fd9-8260-a651769b2f09"
   },
   "outputs": [
    {
     "name": "stdout",
     "output_type": "stream",
     "text": [
      "Alert\n"
     ]
    }
   ],
   "source": [
    "print(prediction)\n"
   ]
  },
  {
   "cell_type": "code",
   "execution_count": 16,
   "id": "222f40c2",
   "metadata": {},
   "outputs": [
    {
     "name": "stdout",
     "output_type": "stream",
     "text": [
      "1/1 [==============================] - 0s 8ms/step\n"
     ]
    }
   ],
   "source": [
    "import numpy as np\n",
    "from keras.preprocessing import image\n",
    "test_image = tf.keras.preprocessing.image.load_img('/Users/namanvasudeva/Downloads/DAtaset/predict/images.jpeg', target_size = (64, 64))\n",
    "test_image = tf.keras.preprocessing.image.img_to_array(test_image)\n",
    "test_image = np.expand_dims(test_image, axis = 0)\n",
    "result = cnn.predict(test_image)\n",
    "training_set.class_indices\n",
    "if result[0][0] == 1:\n",
    "  prediction = 'Alert'\n",
    "else:\n",
    "  prediction = 'Drowsy'\n"
   ]
  },
  {
   "cell_type": "code",
   "execution_count": 17,
   "id": "b6adc600",
   "metadata": {
    "id": "f24640bd",
    "outputId": "7dab59e7-3153-4fd9-8260-a651769b2f09"
   },
   "outputs": [
    {
     "name": "stdout",
     "output_type": "stream",
     "text": [
      "Drowsy\n"
     ]
    }
   ],
   "source": [
    "print(prediction)\n"
   ]
  },
  {
   "cell_type": "code",
   "execution_count": 18,
   "id": "348fa3ad",
   "metadata": {},
   "outputs": [
    {
     "name": "stdout",
     "output_type": "stream",
     "text": [
      "1/1 [==============================] - 0s 8ms/step\n"
     ]
    }
   ],
   "source": [
    "import numpy as np\n",
    "from keras.preprocessing import image\n",
    "test_image = tf.keras.preprocessing.image.load_img('/Users/namanvasudeva/Downloads/DAtaset/predict/images-4.jpeg', target_size = (64, 64))\n",
    "test_image = tf.keras.preprocessing.image.img_to_array(test_image)\n",
    "test_image = np.expand_dims(test_image, axis = 0)\n",
    "result = cnn.predict(test_image)\n",
    "training_set.class_indices\n",
    "if result[0][0] == 1:\n",
    "  prediction = 'Drowsy'\n",
    "else:\n",
    "  prediction = 'Alert'"
   ]
  },
  {
   "cell_type": "code",
   "execution_count": 19,
   "id": "501427fa",
   "metadata": {},
   "outputs": [
    {
     "name": "stdout",
     "output_type": "stream",
     "text": [
      "Alert\n"
     ]
    }
   ],
   "source": [
    "print(prediction)"
   ]
  }
 ],
 "metadata": {
  "colab": {
   "collapsed_sections": [],
   "name": "Cat vs Dog image detector",
   "provenance": []
  },
  "kernelspec": {
   "display_name": "Python 3 (ipykernel)",
   "language": "python",
   "name": "python3"
  },
  "language_info": {
   "codemirror_mode": {
    "name": "ipython",
    "version": 3
   },
   "file_extension": ".py",
   "mimetype": "text/x-python",
   "name": "python",
   "nbconvert_exporter": "python",
   "pygments_lexer": "ipython3",
   "version": "3.9.13"
  }
 },
 "nbformat": 4,
 "nbformat_minor": 5
}
