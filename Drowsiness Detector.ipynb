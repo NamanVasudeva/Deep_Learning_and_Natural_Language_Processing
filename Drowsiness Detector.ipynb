{
 "cells": [
  {
   "cell_type": "markdown",
   "id": "3aca1494",
   "metadata": {},
   "source": [
    "## Importing Tensorflow"
   ]
  },
  {
   "cell_type": "code",
   "execution_count": 1,
   "id": "95853181",
   "metadata": {},
   "outputs": [],
   "source": [
    "import tensorflow as tf\n",
    "from keras.preprocessing.image import ImageDataGenerator\n",
    "import os"
   ]
  },
  {
   "cell_type": "markdown",
   "id": "ec295af5",
   "metadata": {
    "id": "87887085"
   },
   "source": [
    "### Checking the version of tensorflow"
   ]
  },
  {
   "cell_type": "code",
   "execution_count": 2,
   "id": "c9b3885b",
   "metadata": {
    "id": "c9b3885b",
    "outputId": "14d6f50b-0b25-40aa-fda6-4c0cc8c01a28",
    "scrolled": true
   },
   "outputs": [
    {
     "data": {
      "text/plain": [
       "'2.9.2'"
      ]
     },
     "execution_count": 2,
     "metadata": {},
     "output_type": "execute_result"
    }
   ],
   "source": [
    "\n",
    "tf.__version__"
   ]
  },
  {
   "cell_type": "markdown",
   "id": "7df64635",
   "metadata": {},
   "source": [
    "### Training dataset augmentation and path, batch and class details"
   ]
  },
  {
   "cell_type": "code",
   "execution_count": 3,
   "id": "2463c436",
   "metadata": {
    "id": "2463c436",
    "outputId": "3baefc48-e594-45dc-dd4f-8a6d4d5db872",
    "scrolled": true
   },
   "outputs": [
    {
     "name": "stdout",
     "output_type": "stream",
     "text": [
      "Found 910 images belonging to 2 classes.\n"
     ]
    }
   ],
   "source": [
    "\n",
    "train_datagen = ImageDataGenerator(rescale = 1./255,\n",
    "                                   shear_range = 0.2,\n",
    "                                   zoom_range = 0.2,\n",
    "                                   brightness_range=(0.1, 0.9),\n",
    "                                   channel_shift_range=150.0,\n",
    "                                   width_shift_range=0.3,\n",
    "                                   height_shift_range=0.3,\n",
    "                                   horizontal_flip = True)\n",
    "training_set = train_datagen.flow_from_directory('/Users/namanvasudeva/Downloads/DAtaset/train',\n",
    "                                                 target_size = (64, 64),\n",
    "                                                 batch_size = 32,\n",
    "                                                 class_mode = 'binary')"
   ]
  },
  {
   "cell_type": "markdown",
   "id": "18b5f49e",
   "metadata": {},
   "source": [
    "the training dataset was divided into two classes of active and drowsy. 1150 images belon"
   ]
  },
  {
   "cell_type": "markdown",
   "id": "7bc81687",
   "metadata": {},
   "source": [
    "### Test data path, batch and class details"
   ]
  },
  {
   "cell_type": "code",
   "execution_count": 4,
   "id": "546d626b",
   "metadata": {
    "id": "546d626b",
    "outputId": "f0f2ad77-b47f-41af-832b-f40cc31f5691"
   },
   "outputs": [
    {
     "name": "stdout",
     "output_type": "stream",
     "text": [
      "Found 241 images belonging to 2 classes.\n"
     ]
    }
   ],
   "source": [
    "test_datagen = ImageDataGenerator(rescale = 1./255)\n",
    "test_set = test_datagen.flow_from_directory('/Users/namanvasudeva/Downloads/DAtaset/test',\n",
    "                                            target_size = (64, 64),\n",
    "                                            batch_size = 32,\n",
    "                                            class_mode = 'binary')"
   ]
  },
  {
   "cell_type": "markdown",
   "id": "0332f431",
   "metadata": {},
   "source": []
  },
  {
   "cell_type": "code",
   "execution_count": 5,
   "id": "f2ae3071",
   "metadata": {
    "id": "f2ae3071"
   },
   "outputs": [
    {
     "name": "stdout",
     "output_type": "stream",
     "text": [
      "Metal device set to: Apple M1\n"
     ]
    },
    {
     "name": "stderr",
     "output_type": "stream",
     "text": [
      "2022-07-25 01:26:06.781907: I tensorflow/core/common_runtime/pluggable_device/pluggable_device_factory.cc:305] Could not identify NUMA node of platform GPU ID 0, defaulting to 0. Your kernel may not have been built with NUMA support.\n",
      "2022-07-25 01:26:06.782044: I tensorflow/core/common_runtime/pluggable_device/pluggable_device_factory.cc:271] Created TensorFlow device (/job:localhost/replica:0/task:0/device:GPU:0 with 0 MB memory) -> physical PluggableDevice (device: 0, name: METAL, pci bus id: <undefined>)\n"
     ]
    }
   ],
   "source": [
    "cnn = tf.keras.models.Sequential()"
   ]
  },
  {
   "cell_type": "code",
   "execution_count": 6,
   "id": "4333b4d7",
   "metadata": {
    "id": "4333b4d7"
   },
   "outputs": [],
   "source": [
    "cnn.add(tf.keras.layers.Conv2D(filters=32, kernel_size=3, activation='relu', input_shape=[64, 64, 3]))\n"
   ]
  },
  {
   "cell_type": "code",
   "execution_count": 7,
   "id": "d711cd9c",
   "metadata": {
    "id": "d711cd9c"
   },
   "outputs": [],
   "source": [
    "cnn.add(tf.keras.layers.MaxPool2D(pool_size=2, strides=2))\n"
   ]
  },
  {
   "cell_type": "code",
   "execution_count": 8,
   "id": "c3dc5984",
   "metadata": {
    "id": "c3dc5984"
   },
   "outputs": [],
   "source": [
    "cnn.add(tf.keras.layers.Conv2D(filters=32, kernel_size=3, activation='relu'))\n",
    "cnn.add(tf.keras.layers.MaxPool2D(pool_size=2, strides=2))\n"
   ]
  },
  {
   "cell_type": "code",
   "execution_count": 9,
   "id": "ecc5bf91",
   "metadata": {
    "id": "ecc5bf91"
   },
   "outputs": [],
   "source": [
    "cnn.add(tf.keras.layers.Flatten())\n"
   ]
  },
  {
   "cell_type": "code",
   "execution_count": 10,
   "id": "a460ac02",
   "metadata": {
    "id": "a460ac02"
   },
   "outputs": [],
   "source": [
    "cnn.add(tf.keras.layers.Dense(units=128, activation='relu'))\n"
   ]
  },
  {
   "cell_type": "code",
   "execution_count": 11,
   "id": "2d011e5f",
   "metadata": {
    "id": "2d011e5f"
   },
   "outputs": [],
   "source": [
    "cnn.add(tf.keras.layers.Dense(units=1, activation='sigmoid'))\n"
   ]
  },
  {
   "cell_type": "markdown",
   "id": "5efd4e6c",
   "metadata": {},
   "source": [
    "### Settign the method for loss"
   ]
  },
  {
   "cell_type": "code",
   "execution_count": 12,
   "id": "909562c1",
   "metadata": {
    "id": "909562c1"
   },
   "outputs": [],
   "source": [
    "cnn.compile(optimizer = 'adam', loss = 'binary_crossentropy', metrics = ['accuracy'])\n"
   ]
  },
  {
   "cell_type": "markdown",
   "id": "92fdb092",
   "metadata": {},
   "source": [
    "### Checking the accuracy of the algorithm on the test data"
   ]
  },
  {
   "cell_type": "code",
   "execution_count": 13,
   "id": "24186257",
   "metadata": {
    "id": "24186257",
    "outputId": "7018ad6f-f2c8-4141-b737-8f604d8eadd6",
    "scrolled": true
   },
   "outputs": [
    {
     "name": "stdout",
     "output_type": "stream",
     "text": [
      "Epoch 1/50\n"
     ]
    },
    {
     "name": "stderr",
     "output_type": "stream",
     "text": [
      "2022-07-25 01:26:07.013391: W tensorflow/core/platform/profile_utils/cpu_utils.cc:128] Failed to get CPU frequency: 0 Hz\n",
      "2022-07-25 01:26:07.221564: I tensorflow/core/grappler/optimizers/custom_graph_optimizer_registry.cc:113] Plugin optimizer for device_type GPU is enabled.\n"
     ]
    },
    {
     "name": "stdout",
     "output_type": "stream",
     "text": [
      "29/29 [==============================] - ETA: 0s - loss: 0.5210 - accuracy: 0.7802"
     ]
    },
    {
     "name": "stderr",
     "output_type": "stream",
     "text": [
      "2022-07-25 01:26:10.517829: I tensorflow/core/grappler/optimizers/custom_graph_optimizer_registry.cc:113] Plugin optimizer for device_type GPU is enabled.\n"
     ]
    },
    {
     "name": "stdout",
     "output_type": "stream",
     "text": [
      "29/29 [==============================] - 4s 126ms/step - loss: 0.5210 - accuracy: 0.7802 - val_loss: 1.0565 - val_accuracy: 0.4979\n",
      "Epoch 2/50\n",
      "29/29 [==============================] - 3s 89ms/step - loss: 0.4851 - accuracy: 0.7967 - val_loss: 1.7199 - val_accuracy: 0.4979\n",
      "Epoch 3/50\n",
      "29/29 [==============================] - 3s 89ms/step - loss: 0.4774 - accuracy: 0.7967 - val_loss: 1.0367 - val_accuracy: 0.4979\n",
      "Epoch 4/50\n",
      "29/29 [==============================] - 3s 89ms/step - loss: 0.4797 - accuracy: 0.7967 - val_loss: 1.1259 - val_accuracy: 0.4979\n",
      "Epoch 5/50\n",
      "29/29 [==============================] - 3s 89ms/step - loss: 0.4850 - accuracy: 0.7967 - val_loss: 1.2342 - val_accuracy: 0.4979\n",
      "Epoch 6/50\n",
      "29/29 [==============================] - 3s 91ms/step - loss: 0.4645 - accuracy: 0.7967 - val_loss: 1.3974 - val_accuracy: 0.4979\n",
      "Epoch 7/50\n",
      "29/29 [==============================] - 3s 90ms/step - loss: 0.4775 - accuracy: 0.7967 - val_loss: 0.9646 - val_accuracy: 0.4772\n",
      "Epoch 8/50\n",
      "29/29 [==============================] - 3s 92ms/step - loss: 0.4852 - accuracy: 0.7967 - val_loss: 1.3221 - val_accuracy: 0.4979\n",
      "Epoch 9/50\n",
      "29/29 [==============================] - 3s 93ms/step - loss: 0.4589 - accuracy: 0.7967 - val_loss: 1.0118 - val_accuracy: 0.4979\n",
      "Epoch 10/50\n",
      "29/29 [==============================] - 3s 91ms/step - loss: 0.4784 - accuracy: 0.7967 - val_loss: 1.2966 - val_accuracy: 0.4979\n",
      "Epoch 11/50\n",
      "29/29 [==============================] - 3s 90ms/step - loss: 0.4541 - accuracy: 0.7967 - val_loss: 1.2843 - val_accuracy: 0.4938\n",
      "Epoch 12/50\n",
      "29/29 [==============================] - 3s 92ms/step - loss: 0.4616 - accuracy: 0.7989 - val_loss: 1.6390 - val_accuracy: 0.4689\n",
      "Epoch 13/50\n",
      "29/29 [==============================] - 3s 91ms/step - loss: 0.4585 - accuracy: 0.8000 - val_loss: 1.3997 - val_accuracy: 0.4523\n",
      "Epoch 14/50\n",
      "29/29 [==============================] - 3s 90ms/step - loss: 0.4648 - accuracy: 0.8011 - val_loss: 1.6599 - val_accuracy: 0.4523\n",
      "Epoch 15/50\n",
      "29/29 [==============================] - 3s 91ms/step - loss: 0.4744 - accuracy: 0.8011 - val_loss: 1.1760 - val_accuracy: 0.4979\n",
      "Epoch 16/50\n",
      "29/29 [==============================] - 3s 92ms/step - loss: 0.4585 - accuracy: 0.8033 - val_loss: 1.3623 - val_accuracy: 0.4149\n",
      "Epoch 17/50\n",
      "29/29 [==============================] - 3s 91ms/step - loss: 0.4517 - accuracy: 0.8066 - val_loss: 1.3430 - val_accuracy: 0.3817\n",
      "Epoch 18/50\n",
      "29/29 [==============================] - 3s 91ms/step - loss: 0.4606 - accuracy: 0.8044 - val_loss: 1.4770 - val_accuracy: 0.4481\n",
      "Epoch 19/50\n",
      "29/29 [==============================] - 3s 91ms/step - loss: 0.4335 - accuracy: 0.8099 - val_loss: 1.5239 - val_accuracy: 0.4025\n",
      "Epoch 20/50\n",
      "29/29 [==============================] - 3s 92ms/step - loss: 0.4454 - accuracy: 0.8066 - val_loss: 1.1319 - val_accuracy: 0.2656\n",
      "Epoch 21/50\n",
      "29/29 [==============================] - 3s 91ms/step - loss: 0.4391 - accuracy: 0.8264 - val_loss: 1.9002 - val_accuracy: 0.3320\n",
      "Epoch 22/50\n",
      "29/29 [==============================] - 3s 91ms/step - loss: 0.4355 - accuracy: 0.8187 - val_loss: 1.5038 - val_accuracy: 0.2614\n",
      "Epoch 23/50\n",
      "29/29 [==============================] - 3s 91ms/step - loss: 0.4383 - accuracy: 0.8319 - val_loss: 1.2844 - val_accuracy: 0.1037\n",
      "Epoch 24/50\n",
      "29/29 [==============================] - 3s 91ms/step - loss: 0.4161 - accuracy: 0.8462 - val_loss: 1.2625 - val_accuracy: 0.2780\n",
      "Epoch 25/50\n",
      "29/29 [==============================] - 3s 91ms/step - loss: 0.4364 - accuracy: 0.8143 - val_loss: 1.5371 - val_accuracy: 0.1286\n",
      "Epoch 26/50\n",
      "29/29 [==============================] - 3s 91ms/step - loss: 0.4181 - accuracy: 0.8330 - val_loss: 1.8021 - val_accuracy: 0.2407\n",
      "Epoch 27/50\n",
      "29/29 [==============================] - 3s 91ms/step - loss: 0.4211 - accuracy: 0.8330 - val_loss: 1.7251 - val_accuracy: 0.1328\n",
      "Epoch 28/50\n",
      "29/29 [==============================] - 3s 92ms/step - loss: 0.4104 - accuracy: 0.8451 - val_loss: 1.7647 - val_accuracy: 0.1369\n",
      "Epoch 29/50\n",
      "29/29 [==============================] - 3s 91ms/step - loss: 0.3907 - accuracy: 0.8615 - val_loss: 2.3031 - val_accuracy: 0.1286\n",
      "Epoch 30/50\n",
      "29/29 [==============================] - 3s 91ms/step - loss: 0.4095 - accuracy: 0.8451 - val_loss: 2.0350 - val_accuracy: 0.1618\n",
      "Epoch 31/50\n",
      "29/29 [==============================] - 3s 91ms/step - loss: 0.3886 - accuracy: 0.8538 - val_loss: 1.5879 - val_accuracy: 0.1452\n",
      "Epoch 32/50\n",
      "29/29 [==============================] - 3s 92ms/step - loss: 0.3850 - accuracy: 0.8582 - val_loss: 1.7862 - val_accuracy: 0.1618\n",
      "Epoch 33/50\n",
      "29/29 [==============================] - 3s 92ms/step - loss: 0.3830 - accuracy: 0.8582 - val_loss: 2.1197 - val_accuracy: 0.1369\n",
      "Epoch 34/50\n",
      "29/29 [==============================] - 3s 92ms/step - loss: 0.4007 - accuracy: 0.8429 - val_loss: 1.9407 - val_accuracy: 0.1245\n",
      "Epoch 35/50\n",
      "29/29 [==============================] - 3s 93ms/step - loss: 0.3927 - accuracy: 0.8593 - val_loss: 2.0062 - val_accuracy: 0.2324\n",
      "Epoch 36/50\n",
      "29/29 [==============================] - 3s 91ms/step - loss: 0.3711 - accuracy: 0.8659 - val_loss: 2.1178 - val_accuracy: 0.1079\n",
      "Epoch 37/50\n",
      "29/29 [==============================] - 3s 92ms/step - loss: 0.3823 - accuracy: 0.8571 - val_loss: 2.1711 - val_accuracy: 0.1037\n",
      "Epoch 38/50\n",
      "29/29 [==============================] - 3s 92ms/step - loss: 0.3687 - accuracy: 0.8736 - val_loss: 2.1967 - val_accuracy: 0.1245\n",
      "Epoch 39/50\n",
      "29/29 [==============================] - 3s 92ms/step - loss: 0.3878 - accuracy: 0.8571 - val_loss: 1.7137 - val_accuracy: 0.1079\n",
      "Epoch 40/50\n",
      "29/29 [==============================] - 3s 91ms/step - loss: 0.3778 - accuracy: 0.8703 - val_loss: 1.9213 - val_accuracy: 0.1328\n",
      "Epoch 41/50\n",
      "29/29 [==============================] - 3s 92ms/step - loss: 0.3433 - accuracy: 0.8791 - val_loss: 2.1015 - val_accuracy: 0.1494\n",
      "Epoch 42/50\n",
      "29/29 [==============================] - 3s 94ms/step - loss: 0.3775 - accuracy: 0.8615 - val_loss: 1.6531 - val_accuracy: 0.1286\n",
      "Epoch 43/50\n",
      "29/29 [==============================] - 3s 93ms/step - loss: 0.3803 - accuracy: 0.8549 - val_loss: 2.4509 - val_accuracy: 0.1203\n",
      "Epoch 44/50\n",
      "29/29 [==============================] - 3s 94ms/step - loss: 0.3589 - accuracy: 0.8703 - val_loss: 2.7895 - val_accuracy: 0.0996\n",
      "Epoch 45/50\n",
      "29/29 [==============================] - 3s 93ms/step - loss: 0.3633 - accuracy: 0.8670 - val_loss: 1.9457 - val_accuracy: 0.1120\n",
      "Epoch 46/50\n",
      "29/29 [==============================] - 3s 93ms/step - loss: 0.3392 - accuracy: 0.8725 - val_loss: 2.3180 - val_accuracy: 0.1162\n",
      "Epoch 47/50\n",
      "29/29 [==============================] - 3s 94ms/step - loss: 0.3576 - accuracy: 0.8681 - val_loss: 1.7975 - val_accuracy: 0.1826\n",
      "Epoch 48/50\n",
      "29/29 [==============================] - 3s 93ms/step - loss: 0.3468 - accuracy: 0.8780 - val_loss: 2.0346 - val_accuracy: 0.1245\n",
      "Epoch 49/50\n",
      "29/29 [==============================] - 3s 92ms/step - loss: 0.3510 - accuracy: 0.8725 - val_loss: 2.3604 - val_accuracy: 0.1452\n",
      "Epoch 50/50\n",
      "29/29 [==============================] - 3s 92ms/step - loss: 0.3645 - accuracy: 0.8714 - val_loss: 2.4020 - val_accuracy: 0.1494\n"
     ]
    },
    {
     "data": {
      "text/plain": [
       "<keras.callbacks.History at 0x1543a0490>"
      ]
     },
     "execution_count": 13,
     "metadata": {},
     "output_type": "execute_result"
    }
   ],
   "source": [
    "\n",
    "cnn.fit(x = training_set, validation_data = test_set, epochs = 50)\n",
    "\n"
   ]
  },
  {
   "cell_type": "markdown",
   "id": "7febdde1",
   "metadata": {},
   "source": [
    "Running the epochs gave an  accuracy of 87% on the test dataset"
   ]
  },
  {
   "cell_type": "markdown",
   "id": "a5fc8040",
   "metadata": {},
   "source": [
    "### Predicting the state of alertness for the driver"
   ]
  },
  {
   "cell_type": "code",
   "execution_count": 16,
   "id": "222f40c2",
   "metadata": {},
   "outputs": [
    {
     "name": "stdout",
     "output_type": "stream",
     "text": [
      "1/1 [==============================] - 0s 10ms/step\n"
     ]
    }
   ],
   "source": [
    "\n",
    "import numpy as np\n",
    "from keras.preprocessing import image\n",
    "test_image = tf.keras.preprocessing.image.load_img('/Users/namanvasudeva/Downloads/DAtaset/predict/images.jpeg', target_size = (64, 64))\n",
    "test_image = tf.keras.preprocessing.image.img_to_array(test_image)\n",
    "test_image = np.expand_dims(test_image, axis = 0)\n",
    "result = cnn.predict(test_image)\n",
    "training_set.class_indices\n",
    "if result[0][0] == 1:\n",
    "  prediction = 'Alert'\n",
    "else:\n",
    "  prediction = 'Drowsy'\n"
   ]
  },
  {
   "cell_type": "markdown",
   "id": "404166ee",
   "metadata": {},
   "source": [
    "### printing the prediction"
   ]
  },
  {
   "cell_type": "code",
   "execution_count": 17,
   "id": "b6adc600",
   "metadata": {
    "id": "f24640bd",
    "outputId": "7dab59e7-3153-4fd9-8260-a651769b2f09"
   },
   "outputs": [
    {
     "name": "stdout",
     "output_type": "stream",
     "text": [
      "Alert\n"
     ]
    }
   ],
   "source": [
    "\n",
    "print(prediction)"
   ]
  },
  {
   "cell_type": "markdown",
   "id": "8a3463c5",
   "metadata": {},
   "source": [
    "The prediction was correct and matched with the test image\n"
   ]
  },
  {
   "cell_type": "markdown",
   "id": "575a33f2",
   "metadata": {},
   "source": [
    "### predicting the state of alertness for the driver"
   ]
  },
  {
   "cell_type": "code",
   "execution_count": 18,
   "id": "348fa3ad",
   "metadata": {},
   "outputs": [
    {
     "name": "stdout",
     "output_type": "stream",
     "text": [
      "1/1 [==============================] - 0s 8ms/step\n"
     ]
    }
   ],
   "source": [
    "\n",
    "import numpy as np\n",
    "from keras.preprocessing import image\n",
    "test_image = tf.keras.preprocessing.image.load_img('/Users/namanvasudeva/Downloads/DAtaset/predict/images-4.jpeg', target_size = (64, 64))\n",
    "test_image = tf.keras.preprocessing.image.img_to_array(test_image)\n",
    "test_image = np.expand_dims(test_image, axis = 0)\n",
    "result = cnn.predict(test_image)\n",
    "training_set.class_indices\n",
    "if result[0][0] == 1:\n",
    "  prediction = 'Drowsy'\n",
    "else:\n",
    "  prediction = 'Alert'"
   ]
  },
  {
   "cell_type": "markdown",
   "id": "9c1998b1",
   "metadata": {},
   "source": [
    "### printing the prediction"
   ]
  },
  {
   "cell_type": "code",
   "execution_count": 19,
   "id": "501427fa",
   "metadata": {},
   "outputs": [
    {
     "name": "stdout",
     "output_type": "stream",
     "text": [
      "Drowsy\n"
     ]
    }
   ],
   "source": [
    "\n",
    "print(prediction)"
   ]
  },
  {
   "cell_type": "markdown",
   "id": "ce7ecd0c",
   "metadata": {},
   "source": [
    "The prediction was correct and matched with the test image\n"
   ]
  }
 ],
 "metadata": {
  "colab": {
   "collapsed_sections": [],
   "name": "Cat vs Dog image detector",
   "provenance": []
  },
  "kernelspec": {
   "display_name": "Python 3 (ipykernel)",
   "language": "python",
   "name": "python3"
  },
  "language_info": {
   "codemirror_mode": {
    "name": "ipython",
    "version": 3
   },
   "file_extension": ".py",
   "mimetype": "text/x-python",
   "name": "python",
   "nbconvert_exporter": "python",
   "pygments_lexer": "ipython3",
   "version": "3.9.13"
  }
 },
 "nbformat": 4,
 "nbformat_minor": 5
}
