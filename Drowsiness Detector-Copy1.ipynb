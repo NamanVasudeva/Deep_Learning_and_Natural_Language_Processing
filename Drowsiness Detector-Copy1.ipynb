{
 "cells": [
  {
   "cell_type": "code",
   "execution_count": 1,
   "id": "87887085",
   "metadata": {
    "id": "87887085"
   },
   "outputs": [],
   "source": [
    "import tensorflow as tf\n",
    "from keras.preprocessing.image import ImageDataGenerator\n",
    "import os"
   ]
  },
  {
   "cell_type": "code",
   "execution_count": 2,
   "id": "c9b3885b",
   "metadata": {
    "id": "c9b3885b",
    "outputId": "14d6f50b-0b25-40aa-fda6-4c0cc8c01a28"
   },
   "outputs": [
    {
     "data": {
      "text/plain": [
       "'2.9.2'"
      ]
     },
     "execution_count": 2,
     "metadata": {},
     "output_type": "execute_result"
    }
   ],
   "source": [
    "tf.__version__\n"
   ]
  },
  {
   "cell_type": "code",
   "execution_count": 3,
   "id": "2463c436",
   "metadata": {
    "id": "2463c436",
    "outputId": "3baefc48-e594-45dc-dd4f-8a6d4d5db872"
   },
   "outputs": [
    {
     "name": "stdout",
     "output_type": "stream",
     "text": [
      "Found 2604 images belonging to 4 classes.\n"
     ]
    }
   ],
   "source": [
    "train_datagen = ImageDataGenerator(rescale = 1./255,\n",
    "                                   shear_range = 0.2,\n",
    "                                   zoom_range = 0.2,\n",
    "                                   brightness_range=(0.1, 0.9),\n",
    "                                   channel_shift_range=150.0,\n",
    "                                   width_shift_range=0.3,\n",
    "                                   height_shift_range=0.3,\n",
    "                                   horizontal_flip = True)\n",
    "training_set = train_datagen.flow_from_directory('/Users/namanvasudeva/Downloads/train 4/train',\n",
    "                                                 target_size = (64, 64),\n",
    "                                                 batch_size = 32,\n",
    "                                                 class_mode = 'sparse')"
   ]
  },
  {
   "cell_type": "code",
   "execution_count": 4,
   "id": "546d626b",
   "metadata": {
    "id": "546d626b",
    "outputId": "f0f2ad77-b47f-41af-832b-f40cc31f5691"
   },
   "outputs": [
    {
     "name": "stdout",
     "output_type": "stream",
     "text": [
      "Found 296 images belonging to 4 classes.\n"
     ]
    }
   ],
   "source": [
    "test_datagen = ImageDataGenerator(rescale = 1./255)\n",
    "test_set = test_datagen.flow_from_directory('/Users/namanvasudeva/Downloads/train 4/test',\n",
    "                                            target_size = (64, 64),\n",
    "                                            batch_size = 32,\n",
    "                                            class_mode = 'sparse')"
   ]
  },
  {
   "cell_type": "code",
   "execution_count": 5,
   "id": "f2ae3071",
   "metadata": {
    "id": "f2ae3071"
   },
   "outputs": [
    {
     "name": "stdout",
     "output_type": "stream",
     "text": [
      "Metal device set to: Apple M1\n"
     ]
    },
    {
     "name": "stderr",
     "output_type": "stream",
     "text": [
      "2022-07-23 21:16:38.118919: I tensorflow/core/common_runtime/pluggable_device/pluggable_device_factory.cc:305] Could not identify NUMA node of platform GPU ID 0, defaulting to 0. Your kernel may not have been built with NUMA support.\n",
      "2022-07-23 21:16:38.119252: I tensorflow/core/common_runtime/pluggable_device/pluggable_device_factory.cc:271] Created TensorFlow device (/job:localhost/replica:0/task:0/device:GPU:0 with 0 MB memory) -> physical PluggableDevice (device: 0, name: METAL, pci bus id: <undefined>)\n"
     ]
    }
   ],
   "source": [
    "cnn = tf.keras.models.Sequential()"
   ]
  },
  {
   "cell_type": "code",
   "execution_count": 6,
   "id": "4333b4d7",
   "metadata": {
    "id": "4333b4d7"
   },
   "outputs": [],
   "source": [
    "cnn.add(tf.keras.layers.Conv2D(filters=32, kernel_size=3, activation='relu', input_shape=[64, 64, 3]))\n"
   ]
  },
  {
   "cell_type": "code",
   "execution_count": 7,
   "id": "d711cd9c",
   "metadata": {
    "id": "d711cd9c"
   },
   "outputs": [],
   "source": [
    "cnn.add(tf.keras.layers.MaxPool2D(pool_size=2, strides=2))\n"
   ]
  },
  {
   "cell_type": "code",
   "execution_count": 8,
   "id": "c3dc5984",
   "metadata": {
    "id": "c3dc5984"
   },
   "outputs": [],
   "source": [
    "cnn.add(tf.keras.layers.Conv2D(filters=32, kernel_size=3, activation='relu'))\n",
    "cnn.add(tf.keras.layers.MaxPool2D(pool_size=2, strides=2))\n"
   ]
  },
  {
   "cell_type": "code",
   "execution_count": 9,
   "id": "ecc5bf91",
   "metadata": {
    "id": "ecc5bf91"
   },
   "outputs": [],
   "source": [
    "cnn.add(tf.keras.layers.Flatten())\n"
   ]
  },
  {
   "cell_type": "code",
   "execution_count": 10,
   "id": "a460ac02",
   "metadata": {
    "id": "a460ac02"
   },
   "outputs": [],
   "source": [
    "cnn.add(tf.keras.layers.Dense(units=128, activation='relu'))\n"
   ]
  },
  {
   "cell_type": "code",
   "execution_count": 11,
   "id": "2d011e5f",
   "metadata": {
    "id": "2d011e5f"
   },
   "outputs": [],
   "source": [
    "cnn.add(tf.keras.layers.Dense(units=1, activation='sigmoid'))\n"
   ]
  },
  {
   "cell_type": "code",
   "execution_count": 12,
   "id": "909562c1",
   "metadata": {
    "id": "909562c1"
   },
   "outputs": [],
   "source": [
    "cnn.compile(optimizer = 'adam', loss = 'binary_crossentropy', metrics = ['accuracy'])\n"
   ]
  },
  {
   "cell_type": "code",
   "execution_count": 13,
   "id": "24186257",
   "metadata": {
    "id": "24186257",
    "outputId": "7018ad6f-f2c8-4141-b737-8f604d8eadd6",
    "scrolled": true
   },
   "outputs": [
    {
     "name": "stdout",
     "output_type": "stream",
     "text": [
      "Epoch 1/50\n"
     ]
    },
    {
     "name": "stderr",
     "output_type": "stream",
     "text": [
      "2022-07-23 21:16:38.585142: W tensorflow/core/platform/profile_utils/cpu_utils.cc:128] Failed to get CPU frequency: 0 Hz\n",
      "2022-07-23 21:16:38.889791: I tensorflow/core/grappler/optimizers/custom_graph_optimizer_registry.cc:113] Plugin optimizer for device_type GPU is enabled.\n"
     ]
    },
    {
     "name": "stdout",
     "output_type": "stream",
     "text": [
      "82/82 [==============================] - ETA: 0s - loss: -20884.1738 - accuracy: 0.2496"
     ]
    },
    {
     "name": "stderr",
     "output_type": "stream",
     "text": [
      "2022-07-23 21:16:46.629092: I tensorflow/core/grappler/optimizers/custom_graph_optimizer_registry.cc:113] Plugin optimizer for device_type GPU is enabled.\n"
     ]
    },
    {
     "name": "stdout",
     "output_type": "stream",
     "text": [
      "82/82 [==============================] - 9s 89ms/step - loss: -20884.1738 - accuracy: 0.2496 - val_loss: -220379.0781 - val_accuracy: 0.2500\n",
      "Epoch 2/50\n",
      "82/82 [==============================] - 7s 81ms/step - loss: -1089843.1250 - accuracy: 0.2504 - val_loss: -5791556.5000 - val_accuracy: 0.2500\n",
      "Epoch 3/50\n",
      "82/82 [==============================] - 7s 83ms/step - loss: -9415192.0000 - accuracy: 0.2504 - val_loss: -38279128.0000 - val_accuracy: 0.2500\n",
      "Epoch 4/50\n",
      "82/82 [==============================] - 7s 81ms/step - loss: -44163712.0000 - accuracy: 0.2504 - val_loss: -144047424.0000 - val_accuracy: 0.2500\n",
      "Epoch 5/50\n",
      "82/82 [==============================] - 7s 82ms/step - loss: -127531080.0000 - accuracy: 0.2504 - val_loss: -386764864.0000 - val_accuracy: 0.2500\n",
      "Epoch 6/50\n",
      "82/82 [==============================] - 7s 81ms/step - loss: -304912960.0000 - accuracy: 0.2504 - val_loss: -850012352.0000 - val_accuracy: 0.2500\n",
      "Epoch 7/50\n",
      "82/82 [==============================] - 7s 82ms/step - loss: -635351104.0000 - accuracy: 0.2504 - val_loss: -1630615040.0000 - val_accuracy: 0.2500\n",
      "Epoch 8/50\n",
      "82/82 [==============================] - 7s 82ms/step - loss: -1144037248.0000 - accuracy: 0.2504 - val_loss: -2828507648.0000 - val_accuracy: 0.2500\n",
      "Epoch 9/50\n",
      "82/82 [==============================] - 7s 82ms/step - loss: -1771006464.0000 - accuracy: 0.2504 - val_loss: -4481223168.0000 - val_accuracy: 0.2500\n",
      "Epoch 10/50\n",
      "82/82 [==============================] - 7s 87ms/step - loss: -2984735232.0000 - accuracy: 0.2504 - val_loss: -6840810496.0000 - val_accuracy: 0.2500\n",
      "Epoch 11/50\n",
      "82/82 [==============================] - 7s 87ms/step - loss: -4409801728.0000 - accuracy: 0.2504 - val_loss: -9967620096.0000 - val_accuracy: 0.2500\n",
      "Epoch 12/50\n",
      "82/82 [==============================] - 7s 87ms/step - loss: -6042291200.0000 - accuracy: 0.2504 - val_loss: -13945625600.0000 - val_accuracy: 0.2500\n",
      "Epoch 13/50\n",
      "82/82 [==============================] - 7s 86ms/step - loss: -8858742784.0000 - accuracy: 0.2504 - val_loss: -19010947072.0000 - val_accuracy: 0.2500\n",
      "Epoch 14/50\n",
      "82/82 [==============================] - 7s 88ms/step - loss: -12191990784.0000 - accuracy: 0.2504 - val_loss: -25348161536.0000 - val_accuracy: 0.2500\n",
      "Epoch 15/50\n",
      "82/82 [==============================] - 7s 87ms/step - loss: -15217499136.0000 - accuracy: 0.2504 - val_loss: -32738435072.0000 - val_accuracy: 0.2500\n",
      "Epoch 16/50\n",
      "82/82 [==============================] - 7s 89ms/step - loss: -19897724928.0000 - accuracy: 0.2504 - val_loss: -41635168256.0000 - val_accuracy: 0.2500\n",
      "Epoch 17/50\n",
      "82/82 [==============================] - 7s 89ms/step - loss: -23442044928.0000 - accuracy: 0.2504 - val_loss: -51700514816.0000 - val_accuracy: 0.2500\n",
      "Epoch 18/50\n",
      "82/82 [==============================] - 7s 91ms/step - loss: -30252138496.0000 - accuracy: 0.2504 - val_loss: -63109853184.0000 - val_accuracy: 0.2500\n",
      "Epoch 19/50\n",
      "82/82 [==============================] - 7s 87ms/step - loss: -37129113600.0000 - accuracy: 0.2504 - val_loss: -77008289792.0000 - val_accuracy: 0.2500\n",
      "Epoch 20/50\n",
      "82/82 [==============================] - 7s 90ms/step - loss: -45009444864.0000 - accuracy: 0.2504 - val_loss: -92788211712.0000 - val_accuracy: 0.2500\n",
      "Epoch 21/50\n",
      "82/82 [==============================] - 7s 88ms/step - loss: -53694984192.0000 - accuracy: 0.2504 - val_loss: -110553645056.0000 - val_accuracy: 0.2500\n",
      "Epoch 22/50\n",
      "82/82 [==============================] - 7s 88ms/step - loss: -65544667136.0000 - accuracy: 0.2504 - val_loss: -131153920000.0000 - val_accuracy: 0.2500\n",
      "Epoch 23/50\n",
      "82/82 [==============================] - 7s 87ms/step - loss: -75377147904.0000 - accuracy: 0.2504 - val_loss: -153589694464.0000 - val_accuracy: 0.2500\n",
      "Epoch 24/50\n",
      "82/82 [==============================] - 7s 87ms/step - loss: -90506092544.0000 - accuracy: 0.2504 - val_loss: -178908856320.0000 - val_accuracy: 0.2500\n",
      "Epoch 25/50\n",
      "82/82 [==============================] - 7s 87ms/step - loss: -100794548224.0000 - accuracy: 0.2504 - val_loss: -205154123776.0000 - val_accuracy: 0.2500\n",
      "Epoch 26/50\n",
      "82/82 [==============================] - 7s 87ms/step - loss: -108862750720.0000 - accuracy: 0.2504 - val_loss: -234307960832.0000 - val_accuracy: 0.2500\n",
      "Epoch 27/50\n",
      "82/82 [==============================] - 8s 96ms/step - loss: -129700085760.0000 - accuracy: 0.2504 - val_loss: -266050125824.0000 - val_accuracy: 0.2500\n",
      "Epoch 28/50\n",
      "82/82 [==============================] - 8s 96ms/step - loss: -143651815424.0000 - accuracy: 0.2504 - val_loss: -300793757696.0000 - val_accuracy: 0.2500\n",
      "Epoch 29/50\n",
      "82/82 [==============================] - 8s 93ms/step - loss: -160851148800.0000 - accuracy: 0.2504 - val_loss: -337848926208.0000 - val_accuracy: 0.2500\n",
      "Epoch 30/50\n",
      "82/82 [==============================] - 8s 91ms/step - loss: -193292058624.0000 - accuracy: 0.2504 - val_loss: -380984950784.0000 - val_accuracy: 0.2500\n",
      "Epoch 31/50\n",
      "82/82 [==============================] - 8s 92ms/step - loss: -217698320384.0000 - accuracy: 0.2504 - val_loss: -426989977600.0000 - val_accuracy: 0.2500\n",
      "Epoch 32/50\n",
      "82/82 [==============================] - 8s 94ms/step - loss: -233337126912.0000 - accuracy: 0.2504 - val_loss: -474984808448.0000 - val_accuracy: 0.2500\n",
      "Epoch 33/50\n",
      "82/82 [==============================] - 8s 96ms/step - loss: -254552522752.0000 - accuracy: 0.2504 - val_loss: -526861107200.0000 - val_accuracy: 0.2500\n",
      "Epoch 34/50\n",
      "82/82 [==============================] - 8s 94ms/step - loss: -292075995136.0000 - accuracy: 0.2504 - val_loss: -582692962304.0000 - val_accuracy: 0.2500\n",
      "Epoch 35/50\n",
      "82/82 [==============================] - 8s 92ms/step - loss: -303414935552.0000 - accuracy: 0.2504 - val_loss: -641475739648.0000 - val_accuracy: 0.2500\n",
      "Epoch 36/50\n",
      "82/82 [==============================] - 8s 92ms/step - loss: -343924736000.0000 - accuracy: 0.2504 - val_loss: -703471091712.0000 - val_accuracy: 0.2500\n",
      "Epoch 37/50\n",
      "82/82 [==============================] - 8s 93ms/step - loss: -398421458944.0000 - accuracy: 0.2504 - val_loss: -771948609536.0000 - val_accuracy: 0.2500\n",
      "Epoch 38/50\n",
      "82/82 [==============================] - 8s 93ms/step - loss: -444208349184.0000 - accuracy: 0.2504 - val_loss: -847330148352.0000 - val_accuracy: 0.2500\n",
      "Epoch 39/50\n",
      "82/82 [==============================] - 8s 93ms/step - loss: -447975948288.0000 - accuracy: 0.2504 - val_loss: -921497960448.0000 - val_accuracy: 0.2500\n",
      "Epoch 40/50\n",
      "82/82 [==============================] - 8s 93ms/step - loss: -480673267712.0000 - accuracy: 0.2504 - val_loss: -998267617280.0000 - val_accuracy: 0.2500\n",
      "Epoch 41/50\n",
      "82/82 [==============================] - 8s 93ms/step - loss: -539231617024.0000 - accuracy: 0.2504 - val_loss: -1083180187648.0000 - val_accuracy: 0.2500\n",
      "Epoch 42/50\n",
      "82/82 [==============================] - 8s 93ms/step - loss: -581918195712.0000 - accuracy: 0.2504 - val_loss: -1171011141632.0000 - val_accuracy: 0.2500\n",
      "Epoch 43/50\n",
      "82/82 [==============================] - 8s 93ms/step - loss: -633162563584.0000 - accuracy: 0.2504 - val_loss: -1262738735104.0000 - val_accuracy: 0.2500\n",
      "Epoch 44/50\n",
      "82/82 [==============================] - 8s 93ms/step - loss: -660105854976.0000 - accuracy: 0.2504 - val_loss: -1359528460288.0000 - val_accuracy: 0.2500\n",
      "Epoch 45/50\n",
      "82/82 [==============================] - 8s 94ms/step - loss: -734699192320.0000 - accuracy: 0.2504 - val_loss: -1464510447616.0000 - val_accuracy: 0.2500\n",
      "Epoch 46/50\n",
      "82/82 [==============================] - 8s 93ms/step - loss: -803928735744.0000 - accuracy: 0.2504 - val_loss: -1573014208512.0000 - val_accuracy: 0.2500\n",
      "Epoch 47/50\n",
      "82/82 [==============================] - 8s 93ms/step - loss: -834456911872.0000 - accuracy: 0.2504 - val_loss: -1686782869504.0000 - val_accuracy: 0.2500\n",
      "Epoch 48/50\n",
      "82/82 [==============================] - 8s 93ms/step - loss: -912860053504.0000 - accuracy: 0.2504 - val_loss: -1806566948864.0000 - val_accuracy: 0.2500\n",
      "Epoch 49/50\n",
      "82/82 [==============================] - 8s 94ms/step - loss: -975402369024.0000 - accuracy: 0.2504 - val_loss: -1930084483072.0000 - val_accuracy: 0.2500\n",
      "Epoch 50/50\n",
      "82/82 [==============================] - 8s 94ms/step - loss: -1000525660160.0000 - accuracy: 0.2504 - val_loss: -2056493334528.0000 - val_accuracy: 0.2500\n"
     ]
    },
    {
     "data": {
      "text/plain": [
       "<keras.callbacks.History at 0x14abb1130>"
      ]
     },
     "execution_count": 13,
     "metadata": {},
     "output_type": "execute_result"
    }
   ],
   "source": [
    "cnn.fit(x = training_set, validation_data = test_set, epochs = 50)\n",
    "\n"
   ]
  },
  {
   "cell_type": "code",
   "execution_count": 14,
   "id": "4bc8b0ea",
   "metadata": {
    "id": "4bc8b0ea",
    "outputId": "8ff8ea49-4204-4c6e-8ffd-5a0f4a810636"
   },
   "outputs": [
    {
     "name": "stdout",
     "output_type": "stream",
     "text": [
      "1/1 [==============================] - 0s 245ms/step\n"
     ]
    },
    {
     "name": "stderr",
     "output_type": "stream",
     "text": [
      "2022-07-23 21:22:48.294521: I tensorflow/core/grappler/optimizers/custom_graph_optimizer_registry.cc:113] Plugin optimizer for device_type GPU is enabled.\n"
     ]
    }
   ],
   "source": [
    "import numpy as np\n",
    "from keras.preprocessing import image\n",
    "test_image = tf.keras.preprocessing.image.load_img('/Users/namanvasudeva/Downloads/DAtaset/predict/check.jpg', target_size = (64, 64))\n",
    "test_image = tf.keras.preprocessing.image.img_to_array(test_image)\n",
    "test_image = np.expand_dims(test_image, axis = 0)\n",
    "result = cnn.predict(test_image)\n",
    "training_set.class_indices\n",
    "if result[0][0] == 1:\n",
    "  prediction = 'Drowsy'\n",
    "else:\n",
    "  prediction = 'Alert'"
   ]
  },
  {
   "cell_type": "code",
   "execution_count": 15,
   "id": "f24640bd",
   "metadata": {
    "id": "f24640bd",
    "outputId": "7dab59e7-3153-4fd9-8260-a651769b2f09"
   },
   "outputs": [
    {
     "name": "stdout",
     "output_type": "stream",
     "text": [
      "Drowsy\n"
     ]
    }
   ],
   "source": [
    "print(prediction)\n"
   ]
  },
  {
   "cell_type": "code",
   "execution_count": 16,
   "id": "222f40c2",
   "metadata": {},
   "outputs": [
    {
     "name": "stdout",
     "output_type": "stream",
     "text": [
      "1/1 [==============================] - 0s 10ms/step\n"
     ]
    }
   ],
   "source": [
    "import numpy as np\n",
    "from keras.preprocessing import image\n",
    "test_image = tf.keras.preprocessing.image.load_img('/Users/namanvasudeva/Downloads/DAtaset/predict/images.jpeg', target_size = (64, 64))\n",
    "test_image = tf.keras.preprocessing.image.img_to_array(test_image)\n",
    "test_image = np.expand_dims(test_image, axis = 0)\n",
    "result = cnn.predict(test_image)\n",
    "training_set.class_indices\n",
    "if result[0][0] == 1:\n",
    "  prediction = 'Alert'\n",
    "else:\n",
    "  prediction = 'Drowsy'\n"
   ]
  },
  {
   "cell_type": "code",
   "execution_count": 17,
   "id": "b6adc600",
   "metadata": {
    "id": "f24640bd",
    "outputId": "7dab59e7-3153-4fd9-8260-a651769b2f09"
   },
   "outputs": [
    {
     "name": "stdout",
     "output_type": "stream",
     "text": [
      "Alert\n"
     ]
    }
   ],
   "source": [
    "print(prediction)\n"
   ]
  },
  {
   "cell_type": "code",
   "execution_count": 18,
   "id": "348fa3ad",
   "metadata": {},
   "outputs": [
    {
     "name": "stdout",
     "output_type": "stream",
     "text": [
      "1/1 [==============================] - 0s 11ms/step\n"
     ]
    }
   ],
   "source": [
    "import numpy as np\n",
    "from keras.preprocessing import image\n",
    "test_image = tf.keras.preprocessing.image.load_img('/Users/namanvasudeva/Downloads/DAtaset/predict/images-4.jpeg', target_size = (64, 64))\n",
    "test_image = tf.keras.preprocessing.image.img_to_array(test_image)\n",
    "test_image = np.expand_dims(test_image, axis = 0)\n",
    "result = cnn.predict(test_image)\n",
    "training_set.class_indices\n",
    "if result[0][0] == 1:\n",
    "  prediction = 'Drowsy'\n",
    "else:\n",
    "  prediction = 'Alert'"
   ]
  },
  {
   "cell_type": "code",
   "execution_count": 19,
   "id": "501427fa",
   "metadata": {},
   "outputs": [
    {
     "name": "stdout",
     "output_type": "stream",
     "text": [
      "Drowsy\n"
     ]
    }
   ],
   "source": [
    "print(prediction)"
   ]
  }
 ],
 "metadata": {
  "colab": {
   "collapsed_sections": [],
   "name": "Cat vs Dog image detector",
   "provenance": []
  },
  "kernelspec": {
   "display_name": "Python 3 (ipykernel)",
   "language": "python",
   "name": "python3"
  },
  "language_info": {
   "codemirror_mode": {
    "name": "ipython",
    "version": 3
   },
   "file_extension": ".py",
   "mimetype": "text/x-python",
   "name": "python",
   "nbconvert_exporter": "python",
   "pygments_lexer": "ipython3",
   "version": "3.9.13"
  }
 },
 "nbformat": 4,
 "nbformat_minor": 5
}
