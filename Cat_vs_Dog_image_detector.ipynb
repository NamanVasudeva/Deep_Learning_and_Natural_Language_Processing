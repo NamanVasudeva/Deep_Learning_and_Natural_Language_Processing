{
  "cells": [
    {
      "cell_type": "code",
      "execution_count": null,
      "id": "87887085",
      "metadata": {
        "id": "87887085"
      },
      "outputs": [],
      "source": [
        "import tensorflow as tf\n",
        "from keras.preprocessing.image import ImageDataGenerator"
      ]
    },
    {
      "cell_type": "code",
      "execution_count": null,
      "id": "c9b3885b",
      "metadata": {
        "id": "c9b3885b",
        "outputId": "14d6f50b-0b25-40aa-fda6-4c0cc8c01a28"
      },
      "outputs": [
        {
          "data": {
            "text/plain": [
              "'2.9.1'"
            ]
          },
          "execution_count": 2,
          "metadata": {},
          "output_type": "execute_result"
        }
      ],
      "source": [
        "tf.__version__\n"
      ]
    },
    {
      "cell_type": "code",
      "execution_count": null,
      "id": "2463c436",
      "metadata": {
        "id": "2463c436",
        "outputId": "3baefc48-e594-45dc-dd4f-8a6d4d5db872"
      },
      "outputs": [
        {
          "name": "stdout",
          "output_type": "stream",
          "text": [
            "Found 8000 images belonging to 2 classes.\n"
          ]
        }
      ],
      "source": [
        "train_datagen = ImageDataGenerator(rescale = 1./255,\n",
        "                                   shear_range = 0.2,\n",
        "                                   zoom_range = 0.2,\n",
        "                                   horizontal_flip = True)\n",
        "training_set = train_datagen.flow_from_directory('C:\\\\Users\\\\ubuntu\\\\Downloads\\\\CNN Dataset\\\\training_set',\n",
        "                                                 target_size = (64, 64),\n",
        "                                                 batch_size = 32,\n",
        "                                                 class_mode = 'binary')"
      ]
    },
    {
      "cell_type": "code",
      "execution_count": null,
      "id": "546d626b",
      "metadata": {
        "id": "546d626b",
        "outputId": "f0f2ad77-b47f-41af-832b-f40cc31f5691"
      },
      "outputs": [
        {
          "name": "stdout",
          "output_type": "stream",
          "text": [
            "Found 2000 images belonging to 2 classes.\n"
          ]
        }
      ],
      "source": [
        "test_datagen = ImageDataGenerator(rescale = 1./255)\n",
        "test_set = test_datagen.flow_from_directory('C:\\\\Users\\\\ubuntu\\\\Downloads\\\\CNN Dataset\\\\test_set',\n",
        "                                            target_size = (64, 64),\n",
        "                                            batch_size = 32,\n",
        "                                            class_mode = 'binary')"
      ]
    },
    {
      "cell_type": "code",
      "execution_count": null,
      "id": "f2ae3071",
      "metadata": {
        "id": "f2ae3071"
      },
      "outputs": [],
      "source": [
        "cnn = tf.keras.models.Sequential()"
      ]
    },
    {
      "cell_type": "code",
      "execution_count": null,
      "id": "4333b4d7",
      "metadata": {
        "id": "4333b4d7"
      },
      "outputs": [],
      "source": [
        "cnn.add(tf.keras.layers.Conv2D(filters=32, kernel_size=3, activation='relu', input_shape=[64, 64, 3]))\n"
      ]
    },
    {
      "cell_type": "code",
      "execution_count": null,
      "id": "d711cd9c",
      "metadata": {
        "id": "d711cd9c"
      },
      "outputs": [],
      "source": [
        "cnn.add(tf.keras.layers.MaxPool2D(pool_size=2, strides=2))\n"
      ]
    },
    {
      "cell_type": "code",
      "execution_count": null,
      "id": "c3dc5984",
      "metadata": {
        "id": "c3dc5984"
      },
      "outputs": [],
      "source": [
        "cnn.add(tf.keras.layers.Conv2D(filters=32, kernel_size=3, activation='relu'))\n",
        "cnn.add(tf.keras.layers.MaxPool2D(pool_size=2, strides=2))\n"
      ]
    },
    {
      "cell_type": "code",
      "execution_count": null,
      "id": "ecc5bf91",
      "metadata": {
        "id": "ecc5bf91"
      },
      "outputs": [],
      "source": [
        "cnn.add(tf.keras.layers.Flatten())\n"
      ]
    },
    {
      "cell_type": "code",
      "execution_count": null,
      "id": "a460ac02",
      "metadata": {
        "id": "a460ac02"
      },
      "outputs": [],
      "source": [
        "cnn.add(tf.keras.layers.Dense(units=128, activation='relu'))\n"
      ]
    },
    {
      "cell_type": "code",
      "execution_count": null,
      "id": "2d011e5f",
      "metadata": {
        "id": "2d011e5f"
      },
      "outputs": [],
      "source": [
        "cnn.add(tf.keras.layers.Dense(units=1, activation='sigmoid'))\n"
      ]
    },
    {
      "cell_type": "code",
      "execution_count": null,
      "id": "909562c1",
      "metadata": {
        "id": "909562c1"
      },
      "outputs": [],
      "source": [
        "cnn.compile(optimizer = 'adam', loss = 'binary_crossentropy', metrics = ['accuracy'])\n"
      ]
    },
    {
      "cell_type": "code",
      "execution_count": null,
      "id": "24186257",
      "metadata": {
        "scrolled": true,
        "id": "24186257",
        "outputId": "7018ad6f-f2c8-4141-b737-8f604d8eadd6"
      },
      "outputs": [
        {
          "name": "stdout",
          "output_type": "stream",
          "text": [
            "Epoch 1/25\n",
            "250/250 [==============================] - 25s 101ms/step - loss: 0.2680 - accuracy: 0.8871 - val_loss: 0.5549 - val_accuracy: 0.7855\n",
            "Epoch 2/25\n",
            "250/250 [==============================] - 25s 101ms/step - loss: 0.2519 - accuracy: 0.8955 - val_loss: 0.5056 - val_accuracy: 0.8045\n",
            "Epoch 3/25\n",
            "250/250 [==============================] - 25s 100ms/step - loss: 0.2583 - accuracy: 0.8928 - val_loss: 0.4946 - val_accuracy: 0.8050\n",
            "Epoch 4/25\n",
            "250/250 [==============================] - 26s 103ms/step - loss: 0.2313 - accuracy: 0.9046 - val_loss: 0.5676 - val_accuracy: 0.8000\n",
            "Epoch 5/25\n",
            "250/250 [==============================] - 27s 106ms/step - loss: 0.2339 - accuracy: 0.9018 - val_loss: 0.5687 - val_accuracy: 0.7990\n",
            "Epoch 6/25\n",
            "250/250 [==============================] - 26s 106ms/step - loss: 0.2321 - accuracy: 0.9041 - val_loss: 0.5332 - val_accuracy: 0.8125\n",
            "Epoch 7/25\n",
            "250/250 [==============================] - 26s 105ms/step - loss: 0.2126 - accuracy: 0.9133 - val_loss: 0.5772 - val_accuracy: 0.8135\n",
            "Epoch 8/25\n",
            "250/250 [==============================] - 26s 104ms/step - loss: 0.2182 - accuracy: 0.9104 - val_loss: 0.6025 - val_accuracy: 0.8000\n",
            "Epoch 9/25\n",
            "250/250 [==============================] - 26s 102ms/step - loss: 0.2048 - accuracy: 0.9165 - val_loss: 0.6107 - val_accuracy: 0.7915\n",
            "Epoch 10/25\n",
            "250/250 [==============================] - 26s 103ms/step - loss: 0.1936 - accuracy: 0.9220 - val_loss: 0.6059 - val_accuracy: 0.7985\n",
            "Epoch 11/25\n",
            "250/250 [==============================] - 25s 102ms/step - loss: 0.1830 - accuracy: 0.9234 - val_loss: 0.5698 - val_accuracy: 0.7960\n",
            "Epoch 12/25\n",
            "250/250 [==============================] - 25s 102ms/step - loss: 0.1708 - accuracy: 0.9330 - val_loss: 0.6199 - val_accuracy: 0.8000\n",
            "Epoch 13/25\n",
            "250/250 [==============================] - 25s 101ms/step - loss: 0.1751 - accuracy: 0.9283 - val_loss: 0.5890 - val_accuracy: 0.8085\n",
            "Epoch 14/25\n",
            "250/250 [==============================] - 25s 102ms/step - loss: 0.1682 - accuracy: 0.9330 - val_loss: 0.6610 - val_accuracy: 0.7975\n",
            "Epoch 15/25\n",
            "250/250 [==============================] - 25s 102ms/step - loss: 0.1580 - accuracy: 0.9377 - val_loss: 0.7049 - val_accuracy: 0.7875\n",
            "Epoch 16/25\n",
            "250/250 [==============================] - 25s 102ms/step - loss: 0.1620 - accuracy: 0.9361 - val_loss: 0.7422 - val_accuracy: 0.7845\n",
            "Epoch 17/25\n",
            "250/250 [==============================] - 26s 104ms/step - loss: 0.1544 - accuracy: 0.9365 - val_loss: 0.7198 - val_accuracy: 0.7965\n",
            "Epoch 18/25\n",
            "250/250 [==============================] - 27s 110ms/step - loss: 0.1474 - accuracy: 0.9415 - val_loss: 0.7041 - val_accuracy: 0.8020\n",
            "Epoch 19/25\n",
            "250/250 [==============================] - 26s 104ms/step - loss: 0.1387 - accuracy: 0.9451 - val_loss: 0.7522 - val_accuracy: 0.7780\n",
            "Epoch 20/25\n",
            "250/250 [==============================] - 25s 101ms/step - loss: 0.1352 - accuracy: 0.9467 - val_loss: 0.7355 - val_accuracy: 0.7955\n",
            "Epoch 21/25\n",
            "250/250 [==============================] - 25s 101ms/step - loss: 0.1326 - accuracy: 0.9482 - val_loss: 0.7147 - val_accuracy: 0.8025\n",
            "Epoch 22/25\n",
            "250/250 [==============================] - 25s 101ms/step - loss: 0.1344 - accuracy: 0.9473 - val_loss: 0.7597 - val_accuracy: 0.7935\n",
            "Epoch 23/25\n",
            "250/250 [==============================] - 25s 101ms/step - loss: 0.1194 - accuracy: 0.9550 - val_loss: 0.7949 - val_accuracy: 0.7960\n",
            "Epoch 24/25\n",
            "250/250 [==============================] - 25s 101ms/step - loss: 0.1281 - accuracy: 0.9491 - val_loss: 0.7526 - val_accuracy: 0.8075\n",
            "Epoch 25/25\n",
            "250/250 [==============================] - 26s 102ms/step - loss: 0.1094 - accuracy: 0.9580 - val_loss: 0.9910 - val_accuracy: 0.7735\n"
          ]
        },
        {
          "data": {
            "text/plain": [
              "<keras.callbacks.History at 0x254cd134130>"
            ]
          },
          "execution_count": 40,
          "metadata": {},
          "output_type": "execute_result"
        }
      ],
      "source": [
        "cnn.fit(x = training_set, validation_data = test_set, epochs = 25)\n",
        "\n"
      ]
    },
    {
      "cell_type": "code",
      "execution_count": null,
      "id": "4bc8b0ea",
      "metadata": {
        "id": "4bc8b0ea",
        "outputId": "8ff8ea49-4204-4c6e-8ffd-5a0f4a810636"
      },
      "outputs": [
        {
          "name": "stdout",
          "output_type": "stream",
          "text": [
            "1/1 [==============================] - 0s 50ms/step\n"
          ]
        }
      ],
      "source": [
        "import numpy as np\n",
        "from keras.preprocessing import image\n",
        "test_image = tf.keras.preprocessing.image.load_img('C:\\\\Users\\\\ubuntu\\\\Downloads\\\\CNN Dataset\\\\single_prediction\\\\cat_or_dog_2.jpg', target_size = (64, 64))\n",
        "test_image = tf.keras.preprocessing.image.img_to_array(test_image)\n",
        "test_image = np.expand_dims(test_image, axis = 0)\n",
        "result = cnn.predict(test_image)\n",
        "training_set.class_indices\n",
        "if result[0][0] == 1:\n",
        "  prediction = 'dog'\n",
        "else:\n",
        "  prediction = 'cat'"
      ]
    },
    {
      "cell_type": "code",
      "execution_count": null,
      "id": "f24640bd",
      "metadata": {
        "id": "f24640bd",
        "outputId": "7dab59e7-3153-4fd9-8260-a651769b2f09"
      },
      "outputs": [
        {
          "name": "stdout",
          "output_type": "stream",
          "text": [
            "cat\n"
          ]
        }
      ],
      "source": [
        "print(prediction)\n"
      ]
    }
  ],
  "metadata": {
    "kernelspec": {
      "display_name": "Python 3 (ipykernel)",
      "language": "python",
      "name": "python3"
    },
    "language_info": {
      "codemirror_mode": {
        "name": "ipython",
        "version": 3
      },
      "file_extension": ".py",
      "mimetype": "text/x-python",
      "name": "python",
      "nbconvert_exporter": "python",
      "pygments_lexer": "ipython3",
      "version": "3.9.7"
    },
    "colab": {
      "name": "Cat vs Dog image detector",
      "provenance": [],
      "collapsed_sections": []
    }
  },
  "nbformat": 4,
  "nbformat_minor": 5
}